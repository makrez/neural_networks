{
  "nbformat": 4,
  "nbformat_minor": 0,
  "metadata": {
    "colab": {
      "provenance": [],
      "authorship_tag": "ABX9TyOiGWerZFiHzwOW3SRIn+L+",
      "include_colab_link": true
    },
    "kernelspec": {
      "name": "python3",
      "display_name": "Python 3"
    },
    "language_info": {
      "name": "python"
    }
  },
  "cells": [
    {
      "cell_type": "markdown",
      "metadata": {
        "id": "view-in-github",
        "colab_type": "text"
      },
      "source": [
        "<a href=\"https://colab.research.google.com/github/makrez/neural_networks/blob/main/autoencoder.ipynb\" target=\"_parent\"><img src=\"https://colab.research.google.com/assets/colab-badge.svg\" alt=\"Open In Colab\"/></a>"
      ]
    },
    {
      "cell_type": "markdown",
      "source": [
        "## Autoencoders for the classification of DNA sequences\n",
        "\n",
        "### Loading libraries"
      ],
      "metadata": {
        "id": "3Eb9LBS0Ra1Z"
      }
    },
    {
      "cell_type": "code",
      "source": [
        "from numpy import array\n",
        "from numpy import argmax\n",
        "from sklearn.preprocessing import LabelEncoder\n",
        "from sklearn.preprocessing import OneHotEncoder\n",
        "import re\n",
        "import os\n",
        "#!pip install biopython\n",
        "from Bio import SeqIO\n",
        "\n",
        "from matplotlib import  pyplot as plt\n",
        "import matplotlib.cm as cm\n",
        "from matplotlib import collections  as mc\n",
        "import matplotlib as mpl\n",
        "\n",
        "import numpy as np\n",
        "import pandas as pd\n",
        "from imageio import imread\n",
        "import pickle\n",
        "from PIL import Image\n",
        "from time import time as timer\n",
        "import requests\n",
        "import zipfile\n",
        "import time\n",
        "import os\n",
        "import glob\n",
        "import datetime\n",
        "\n",
        "from scipy.stats import norm\n",
        "\n",
        "import tensorflow as tf\n",
        "import tensorflow.keras.datasets.mnist as mnist\n",
        "from tensorflow.keras.layers import Layer, Dense, Conv2D, Conv2DTranspose, Flatten, Input, Reshape, Cropping2D, Embedding\n",
        "from tensorflow.keras.layers import LeakyReLU\n",
        "\n",
        "%matplotlib inline\n",
        "from matplotlib import animation\n",
        "from IPython.display import HTML\n",
        "from IPython.display import Audio\n",
        "import IPython\n",
        "\n",
        "\n",
        "#import umap\n",
        "from scipy.stats import entropy\n",
        "import sys\n",
        "is_colab = 'google.colab' in sys.modules\n",
        "\n",
        "tf.get_logger().setLevel('ERROR')"
      ],
      "metadata": {
        "id": "0AgteJClQGU2"
      },
      "execution_count": 52,
      "outputs": []
    },
    {
      "cell_type": "markdown",
      "source": [
        "### Creating functions"
      ],
      "metadata": {
        "id": "-aNnBy2xRlBb"
      }
    },
    {
      "cell_type": "code",
      "source": [
        "class hot_dna:\n",
        " def __init__(self,fasta):\n",
        "   \n",
        "  #check for and grab sequence name\n",
        "  if re.search(\">\",fasta):\n",
        "   name = re.split(\"\\n\",fasta)[0]\n",
        "   sequence = re.split(\"\\n\",fasta)[1]\n",
        "  else :\n",
        "   name = 'unknown_sequence'\n",
        "   sequence = fasta\n",
        "  \n",
        "  #get sequence into an array\n",
        "  seq_array = array(list(sequence))\n",
        "    \n",
        "  #integer encode the sequence\n",
        "  label_encoder = LabelEncoder()\n",
        "  integer_encoded_seq = label_encoder.fit_transform(seq_array)\n",
        "    \n",
        "  #one hot the sequence\n",
        "  onehot_encoder = OneHotEncoder(sparse=False)\n",
        "  #reshape because that's what OneHotEncoder likes\n",
        "  integer_encoded_seq = integer_encoded_seq.reshape(len(integer_encoded_seq), 1)\n",
        "  onehot_encoded_seq = onehot_encoder.fit_transform(integer_encoded_seq)\n",
        "  \n",
        "  #add the attributes to self \n",
        "  self.name = name\n",
        "  self.sequence = fasta\n",
        "  self.integer = integer_encoded_seq\n",
        "  self.onehot = onehot_encoded_seq\n",
        "\n",
        "\n",
        "# Flatten a list\n",
        "def flatten(l):\n",
        "    return [item for sublist in l for item in sublist]\n",
        "\n",
        "def encode_dna(indices):\n",
        "  category_indices = indices\n",
        "  unique_category_count = 5\n",
        "  inputs = tf.one_hot(category_indices, unique_category_count)\n",
        "  return(inputs)\n",
        "\n"
      ],
      "metadata": {
        "id": "4lDABeOXRqqp"
      },
      "execution_count": 76,
      "outputs": []
    },
    {
      "cell_type": "markdown",
      "source": [
        "### Read data"
      ],
      "metadata": {
        "id": "OUPPHa3eSAgL"
      }
    },
    {
      "cell_type": "code",
      "source": [
        "#from google.colab import files\n",
        "#uploads = files.upload()"
      ],
      "metadata": {
        "id": "styulmSWWv6U"
      },
      "execution_count": null,
      "outputs": []
    },
    {
      "cell_type": "code",
      "source": [
        "from google.colab import drive\n",
        "drive.mount('/content/drive')"
      ],
      "metadata": {
        "colab": {
          "base_uri": "https://localhost:8080/"
        },
        "id": "KSN-t4H_at-h",
        "outputId": "b30e58e9-50e9-4e75-c205-73942db48cfc"
      },
      "execution_count": 77,
      "outputs": [
        {
          "output_type": "stream",
          "name": "stdout",
          "text": [
            "Drive already mounted at /content/drive; to attempt to forcibly remount, call drive.mount(\"/content/drive\", force_remount=True).\n"
          ]
        }
      ]
    },
    {
      "cell_type": "code",
      "source": [
        "flatted_sequence = list()\n",
        "sequence_labels = list()\n",
        "\n",
        "with open('drive/MyDrive/Colab Notebooks/autoencoder_data/bacillus.aln') as handle:\n",
        "  for record in SeqIO.parse(handle, 'fasta'):\n",
        "    #seq = hot_dna(str(record.seq)[10:160]).integer\n",
        "    #encoded = encode_dna(flatten(seq))\n",
        "    label = str(record.description).rsplit(';', 1)[-1]\n",
        "      \n",
        "    #flatted_sequence.append(encoded)\n",
        "    #flatted_sequence.append([tf.convert_to_tensor(flatten(hot_dna(str(record.seq)[10:160]).onehot))])\n",
        "    seq_hot = flatten(hot_dna(str(record.seq)[10:160]).onehot)\n",
        "    \n",
        "    if len(seq_hot) == 750:\n",
        "      flatted_sequence.append(seq_hot)\n",
        "      sequence_labels.append(label)\n",
        "\n"
      ],
      "metadata": {
        "id": "flaV9n2Jbu34"
      },
      "execution_count": 78,
      "outputs": []
    },
    {
      "cell_type": "code",
      "source": [
        "#print(flatted_sequence[1] == flatted_sequence[4])\n",
        "#print(sequence_labels[1:5])\n",
        "#print(len(flatted_sequence[1:10]))\n",
        "#print(flatted_sequence[1].shape)\n",
        "#my_hottie = hot_dna(\">fake\\nATTGC-G\")\n",
        "#encode_dna(flatten(my_hottie.integer))\n",
        "# #print(tf.convert_to_tensor(flatted_sequence))\n",
        "# print(input_label.shape)\n",
        "# print(input_tensor.shape)\n"
      ],
      "metadata": {
        "id": "vd8f6RLaeuAq"
      },
      "execution_count": null,
      "outputs": []
    },
    {
      "cell_type": "markdown",
      "source": [
        "Split train and test data"
      ],
      "metadata": {
        "id": "RsvNY6p2il6C"
      }
    },
    {
      "cell_type": "code",
      "source": [
        "from sklearn.model_selection import train_test_split\n",
        "from collections import Counter\n",
        "\n",
        "x_train, x_test, y_train, y_test = train_test_split(flatted_sequence, sequence_labels,test_size = 0.1)\n",
        "\n",
        "print(f\"The training set contains {len(x_train)} sequences\")\n",
        "print(\"The sequences are from the following species: \")\n",
        "print(Counter(y_train))\n",
        "print(\"---------------------------------\")\n",
        "print(f\"The training set contains {len(x_test)} sequences\")\n",
        "print(\"The sequences are from the following species: \")\n",
        "print(Counter(y_test))\n"
      ],
      "metadata": {
        "colab": {
          "base_uri": "https://localhost:8080/"
        },
        "id": "0cVUKlVLiljn",
        "outputId": "4095fb46-c631-4030-fc88-838c05703cf9"
      },
      "execution_count": 79,
      "outputs": [
        {
          "output_type": "stream",
          "name": "stdout",
          "text": [
            "The training set contains 2355 sequences\n",
            "The sequences are from the following species: \n",
            "Counter({'Bacillus subtilis': 568, 'Bacillus velezensis': 482, 'Bacillus cereus': 387, 'Bacillus anthracis': 328, 'Bacillus thuringiensis': 233, 'Bacillus amyloliquefaciens': 134, 'Bacillus cytotoxicus': 121, 'Bacillus licheniformis': 102})\n",
            "---------------------------------\n",
            "The training set contains 262 sequences\n",
            "The sequences are from the following species: \n",
            "Counter({'Bacillus subtilis': 72, 'Bacillus anthracis': 45, 'Bacillus cereus': 43, 'Bacillus velezensis': 40, 'Bacillus thuringiensis': 34, 'Bacillus licheniformis': 12, 'Bacillus amyloliquefaciens': 8, 'Bacillus cytotoxicus': 8})\n"
          ]
        }
      ]
    },
    {
      "cell_type": "code",
      "source": [
        "# Convert train and test set to tensor:\n",
        "input_tensor_train = tf.convert_to_tensor(x_train) \n",
        "input_tensor_test = tf.convert_to_tensor(x_test)\n",
        "\n",
        "# Convert labels to tensor\n",
        "le = LabelEncoder()\n",
        "labels = le.fit_transform(y_train)\n",
        "mapping = dict(zip(range(len(le.classes_)),le.classes_))\n",
        "print(mapping)\n",
        "input_label_train = tf.convert_to_tensor(labels) \n",
        "\n",
        "# le = LabelEncoder()\n",
        "# labels = le.fit_transform(y_test)\n",
        "# input_label_test = tf.convert_to_tensor(labels) \n",
        "\n"
      ],
      "metadata": {
        "id": "bfeGIAz-FxH7",
        "colab": {
          "base_uri": "https://localhost:8080/"
        },
        "outputId": "aa96bbf2-c195-4a32-f80c-473c85c7fb72"
      },
      "execution_count": 102,
      "outputs": [
        {
          "output_type": "stream",
          "name": "stdout",
          "text": [
            "{0: 'Bacillus amyloliquefaciens', 1: 'Bacillus anthracis', 2: 'Bacillus cereus', 3: 'Bacillus cytotoxicus', 4: 'Bacillus licheniformis', 5: 'Bacillus subtilis', 6: 'Bacillus thuringiensis', 7: 'Bacillus velezensis'}\n"
          ]
        }
      ]
    },
    {
      "cell_type": "code",
      "source": [
        "#x_trainx\n",
        "#print(tf.convert_to_tensor(x_train))"
      ],
      "metadata": {
        "id": "VnafNmyOHe71"
      },
      "execution_count": null,
      "outputs": []
    },
    {
      "cell_type": "markdown",
      "source": [
        "## Define the Variational Autoencoder"
      ],
      "metadata": {
        "id": "egFzVCLuLVoF"
      }
    },
    {
      "cell_type": "code",
      "source": [
        "class Sampling(Layer):\n",
        "  def call(self,inputs):\n",
        "    z_mean, z_log_var = inputs\n",
        "    batch = tf.shape(z_mean)[0]\n",
        "    dim = tf.shape(z_mean)[1]\n",
        "    epsilon = tf.keras.backend.random_normal(shape =(batch, dim))\n",
        "    return z_mean + tf.exp(0.5 * z_log_var) * epsilon"
      ],
      "metadata": {
        "id": "DrGVPdP2_pSZ"
      },
      "execution_count": 81,
      "outputs": []
    },
    {
      "cell_type": "code",
      "source": [
        "# Define Encoder Model\n",
        "latent_dim = 2\n",
        "\n",
        "encoder_inputs = Input(shape =(750))\n",
        "x = Flatten()(encoder_inputs)\n",
        "x = Dense(150, activation = \"relu\")(x)\n",
        "x = Dense(16, activation =\"relu\")(x)\n",
        "z_mean = Dense(latent_dim, name =\"z_mean\")(x)\n",
        "z_log_var = Dense(latent_dim, name =\"z_log_var\")(x)\n",
        "z = Sampling()([z_mean, z_log_var])\n",
        "encoder = Model(encoder_inputs, [z_mean, z_log_var, z], name =\"encoder\")\n",
        "encoder.summary()"
      ],
      "metadata": {
        "colab": {
          "base_uri": "https://localhost:8080/"
        },
        "id": "bqsT6IMoLanx",
        "outputId": "aa9ae19c-c13c-4114-8eab-cffbcea9842e"
      },
      "execution_count": 82,
      "outputs": [
        {
          "output_type": "stream",
          "name": "stdout",
          "text": [
            "Model: \"encoder\"\n",
            "__________________________________________________________________________________________________\n",
            " Layer (type)                   Output Shape         Param #     Connected to                     \n",
            "==================================================================================================\n",
            " input_10 (InputLayer)          [(None, 750)]        0           []                               \n",
            "                                                                                                  \n",
            " flatten_25 (Flatten)           (None, 750)          0           ['input_10[0][0]']               \n",
            "                                                                                                  \n",
            " dense_45 (Dense)               (None, 150)          112650      ['flatten_25[0][0]']             \n",
            "                                                                                                  \n",
            " dense_46 (Dense)               (None, 16)           2416        ['dense_45[0][0]']               \n",
            "                                                                                                  \n",
            " z_mean (Dense)                 (None, 2)            34          ['dense_46[0][0]']               \n",
            "                                                                                                  \n",
            " z_log_var (Dense)              (None, 2)            34          ['dense_46[0][0]']               \n",
            "                                                                                                  \n",
            " sampling_6 (Sampling)          (None, 2)            0           ['z_mean[0][0]',                 \n",
            "                                                                  'z_log_var[0][0]']              \n",
            "                                                                                                  \n",
            "==================================================================================================\n",
            "Total params: 115,134\n",
            "Trainable params: 115,134\n",
            "Non-trainable params: 0\n",
            "__________________________________________________________________________________________________\n"
          ]
        }
      ]
    },
    {
      "cell_type": "code",
      "source": [
        "# Define Decoder Architecture\n",
        "latent_inputs = tf.keras.Input(shape =(latent_dim, ))\n",
        "x = Dense(16, activation =\"relu\")(latent_inputs)\n",
        "x = Dense(150, activation = \"relu\")(x)\n",
        "x = Dense(750, activation = \"sigmoid\")(x)\n",
        "decoder_outputs = Flatten()(x)\n",
        "decoder = Model(latent_inputs, decoder_outputs, name =\"decoder\")\n",
        "decoder.summary()"
      ],
      "metadata": {
        "colab": {
          "base_uri": "https://localhost:8080/"
        },
        "id": "wAB004Q1MJmF",
        "outputId": "3eba43f4-3811-4d7e-a633-b230d2f99e5c"
      },
      "execution_count": 83,
      "outputs": [
        {
          "output_type": "stream",
          "name": "stdout",
          "text": [
            "Model: \"decoder\"\n",
            "_________________________________________________________________\n",
            " Layer (type)                Output Shape              Param #   \n",
            "=================================================================\n",
            " input_11 (InputLayer)       [(None, 2)]               0         \n",
            "                                                                 \n",
            " dense_47 (Dense)            (None, 16)                48        \n",
            "                                                                 \n",
            " dense_48 (Dense)            (None, 150)               2550      \n",
            "                                                                 \n",
            " dense_49 (Dense)            (None, 750)               113250    \n",
            "                                                                 \n",
            " flatten_26 (Flatten)        (None, 750)               0         \n",
            "                                                                 \n",
            "=================================================================\n",
            "Total params: 115,848\n",
            "Trainable params: 115,848\n",
            "Non-trainable params: 0\n",
            "_________________________________________________________________\n"
          ]
        }
      ]
    },
    {
      "cell_type": "code",
      "source": [
        "class VAE(tf.keras.Model):\n",
        "  def __init__(self, encoder, decoder, **kwargs):\n",
        "    super(VAE, self).__init__(**kwargs)\n",
        "    self.decoder = decoder\n",
        "    self.encoder = encoder\n",
        "\n",
        "  def train_step(self, data):\n",
        "    if isinstance(data, tuple):\n",
        "      data = data[0]\n",
        "      with tf.GradientTape() as tape:\n",
        "        z_mean, z_log_var, z = encoder(data)\n",
        "        reconstruction = decoder(z)\n",
        "        reconstruction_loss = tf.reduce_mean(\n",
        "        tf.keras.losses.binary_crossentropy(data, reconstruction)\n",
        "        )\n",
        "        reconstruction_loss *= 28 * 28\n",
        "        kl_loss = 1 + z_log_var - tf.square(z_mean) - tf.exp(z_log_var)\n",
        "        kl_loss = tf.reduce_mean(kl_loss)\n",
        "        kl_loss *= -0.5\n",
        "        total_loss = reconstruction_loss + kl_loss\n",
        "      grads = tape.gradient(total_loss, self.trainable_weights)\n",
        "      self.optimizer.apply_gradients(zip(grads, self.trainable_weights))\n",
        "      return {\n",
        "        \"loss\": total_loss,\n",
        "        \"reconstruction_loss\": reconstruction_loss,\n",
        "        \"kl_loss\": kl_loss,\n",
        "        }"
      ],
      "metadata": {
        "id": "xLodm--NQF8K"
      },
      "execution_count": 88,
      "outputs": []
    },
    {
      "cell_type": "code",
      "source": [
        "vae = VAE(encoder, decoder)\n",
        "vae.compile(optimizer ='rmsprop')\n",
        "vae.fit(x_train, x_train, epochs = 100, batch_size = 64)"
      ],
      "metadata": {
        "id": "6sVAIhXOQ1Pb"
      },
      "execution_count": null,
      "outputs": []
    },
    {
      "cell_type": "code",
      "source": [
        "print(mapping)"
      ],
      "metadata": {
        "colab": {
          "base_uri": "https://localhost:8080/"
        },
        "id": "hYnL8IJebTWP",
        "outputId": "4fc941f7-e89b-4fb0-8e36-98d911713a79"
      },
      "execution_count": 113,
      "outputs": [
        {
          "output_type": "stream",
          "name": "stdout",
          "text": [
            "{0: 'Bacillus amyloliquefaciens', 1: 'Bacillus anthracis', 2: 'Bacillus cereus', 3: 'Bacillus cytotoxicus', 4: 'Bacillus licheniformis', 5: 'Bacillus subtilis', 6: 'Bacillus thuringiensis', 7: 'Bacillus velezensis'}\n"
          ]
        }
      ]
    },
    {
      "cell_type": "code",
      "source": [
        "import matplotlib.colors as colors\n",
        "\n",
        "def plot_label_clusters(encoder, decoder, data, test_lab):\n",
        "  z_mean, _, _ = encoder.predict(data)\n",
        "  plt.figure(figsize =(12, 10))\n",
        "  sc = plt.scatter(z_mean[:, 0], z_mean[:, 1], c = test_lab)\n",
        "  cbar = plt.colorbar(sc, ticks = range(10))\n",
        "  cbar.ax.set_yticklabels([labels.get(i) for i in range(10)])\n",
        "  plt.xlabel(\"z[0]\")\n",
        "  plt.ylabel(\"z[1]\")\n",
        "  plt.show()"
      ],
      "metadata": {
        "id": "srfbNg75TMSp"
      },
      "execution_count": 116,
      "outputs": []
    },
    {
      "cell_type": "code",
      "source": [
        "labels = mapping\n",
        "\n",
        "plot_label_clusters(encoder, decoder, x_train, input_label_train)"
      ],
      "metadata": {
        "colab": {
          "base_uri": "https://localhost:8080/",
          "height": 602
        },
        "id": "p5fMnOSxTnvv",
        "outputId": "dd5783e8-1555-4aa9-a789-0ab2b8c82395"
      },
      "execution_count": 117,
      "outputs": [
        {
          "output_type": "stream",
          "name": "stdout",
          "text": [
            "74/74 [==============================] - 0s 2ms/step\n"
          ]
        },
        {
          "output_type": "display_data",
          "data": {
            "text/plain": [
              "<Figure size 864x720 with 2 Axes>"
            ],
            "image/png": "[encoded data removed]"
          },
          "metadata": {
            "needs_background": "light"
          }
        }
      ]
    },
    {
      "cell_type": "markdown",
      "source": [
        "### Increase the alignment size\n",
        "\n"
      ],
      "metadata": {
        "id": "mcb7hEPMcbdZ"
      }
    },
    {
      "cell_type": "code",
      "source": [
        "flatted_sequence = list()\n",
        "sequence_labels = list()\n",
        "\n",
        "with open('drive/MyDrive/Colab Notebooks/autoencoder_data/bacillus.aln') as handle:\n",
        "  for record in SeqIO.parse(handle, 'fasta'):\n",
        "    #seq = hot_dna(str(record.seq)[10:160]).integer\n",
        "    #encoded = encode_dna(flatten(seq))\n",
        "    label = str(record.description).rsplit(';', 1)[-1]\n",
        "      \n",
        "    #flatted_sequence.append(encoded)\n",
        "    #flatted_sequence.append([tf.convert_to_tensor(flatten(hot_dna(str(record.seq)[10:160]).onehot))])\n",
        "    seq_hot = flatten(hot_dna(str(record.seq)[10:310]).onehot)\n",
        "    \n",
        "    if len(seq_hot) == 1500:\n",
        "      flatted_sequence.append(seq_hot)\n",
        "      sequence_labels.append(label)\n",
        "  \n",
        "x_train, x_test, y_train, y_test = train_test_split(flatted_sequence, sequence_labels,test_size = 0.01)\n",
        "\n",
        "print(f\"The training set contains {len(x_train)} sequences\")\n",
        "print(\"The sequences are from the following species: \")\n",
        "print(Counter(y_train))\n",
        "print(\"---------------------------------\")\n",
        "print(f\"The training set contains {len(x_test)} sequences\")\n",
        "print(\"The sequences are from the following species: \")\n",
        "print(Counter(y_test))\n",
        "\n",
        "\n",
        "# Define Encoder Model\n",
        "latent_dim = 2\n",
        "\n",
        "encoder_inputs = Input(shape =(1500))\n",
        "x = Flatten()(encoder_inputs)\n",
        "x = Dense(150, activation = \"relu\")(x)\n",
        "x = Dense(16, activation =\"relu\")(x)\n",
        "z_mean = Dense(latent_dim, name =\"z_mean\")(x)\n",
        "z_log_var = Dense(latent_dim, name =\"z_log_var\")(x)\n",
        "z = Sampling()([z_mean, z_log_var])\n",
        "encoder = Model(encoder_inputs, [z_mean, z_log_var, z], name =\"encoder\")\n",
        "encoder.summary()\n",
        "\n",
        "# Define Decoder Architecture\n",
        "latent_inputs = tf.keras.Input(shape =(latent_dim, ))\n",
        "x = Dense(16, activation =\"relu\")(latent_inputs)\n",
        "x = Dense(150, activation = \"relu\")(x)\n",
        "x = Dense(1500, activation = \"sigmoid\")(x)\n",
        "decoder_outputs = Flatten()(x)\n",
        "decoder = Model(latent_inputs, decoder_outputs, name =\"decoder\")\n",
        "decoder.summary()\n",
        "\n",
        "class VAE(tf.keras.Model):\n",
        "  def __init__(self, encoder, decoder, **kwargs):\n",
        "    super(VAE, self).__init__(**kwargs)\n",
        "    self.decoder = decoder\n",
        "    self.encoder = encoder\n",
        "\n",
        "  def train_step(self, data):\n",
        "    if isinstance(data, tuple):\n",
        "      data = data[0]\n",
        "      with tf.GradientTape() as tape:\n",
        "        z_mean, z_log_var, z = encoder(data)\n",
        "        reconstruction = decoder(z)\n",
        "        reconstruction_loss = tf.reduce_mean(\n",
        "        tf.keras.losses.binary_crossentropy(data, reconstruction)\n",
        "        )\n",
        "        reconstruction_loss *= 28 * 28\n",
        "        kl_loss = 1 + z_log_var - tf.square(z_mean) - tf.exp(z_log_var)\n",
        "        kl_loss = tf.reduce_mean(kl_loss)\n",
        "        kl_loss *= -0.5\n",
        "        total_loss = reconstruction_loss + kl_loss\n",
        "      grads = tape.gradient(total_loss, self.trainable_weights)\n",
        "      self.optimizer.apply_gradients(zip(grads, self.trainable_weights))\n",
        "      return {\n",
        "        \"loss\": total_loss,\n",
        "        \"reconstruction_loss\": reconstruction_loss,\n",
        "        \"kl_loss\": kl_loss,\n",
        "        }"
      ],
      "metadata": {
        "colab": {
          "base_uri": "https://localhost:8080/"
        },
        "id": "5r2QibkxcshM",
        "outputId": "1ef0c5e9-db55-402d-e564-de716ac1a398"
      },
      "execution_count": 121,
      "outputs": [
        {
          "output_type": "stream",
          "name": "stdout",
          "text": [
            "The training set contains 2590 sequences\n",
            "The sequences are from the following species: \n",
            "Counter({'Bacillus subtilis': 633, 'Bacillus velezensis': 518, 'Bacillus cereus': 429, 'Bacillus anthracis': 366, 'Bacillus thuringiensis': 263, 'Bacillus amyloliquefaciens': 140, 'Bacillus cytotoxicus': 128, 'Bacillus licheniformis': 113})\n",
            "---------------------------------\n",
            "The training set contains 27 sequences\n",
            "The sequences are from the following species: \n",
            "Counter({'Bacillus subtilis': 7, 'Bacillus anthracis': 7, 'Bacillus thuringiensis': 4, 'Bacillus velezensis': 4, 'Bacillus amyloliquefaciens': 2, 'Bacillus cytotoxicus': 1, 'Bacillus licheniformis': 1, 'Bacillus cereus': 1})\n",
            "Model: \"encoder\"\n",
            "__________________________________________________________________________________________________\n",
            " Layer (type)                   Output Shape         Param #     Connected to                     \n",
            "==================================================================================================\n",
            " input_16 (InputLayer)          [(None, 1500)]       0           []                               \n",
            "                                                                                                  \n",
            " flatten_31 (Flatten)           (None, 1500)         0           ['input_16[0][0]']               \n",
            "                                                                                                  \n",
            " dense_60 (Dense)               (None, 150)          225150      ['flatten_31[0][0]']             \n",
            "                                                                                                  \n",
            " dense_61 (Dense)               (None, 16)           2416        ['dense_60[0][0]']               \n",
            "                                                                                                  \n",
            " z_mean (Dense)                 (None, 2)            34          ['dense_61[0][0]']               \n",
            "                                                                                                  \n",
            " z_log_var (Dense)              (None, 2)            34          ['dense_61[0][0]']               \n",
            "                                                                                                  \n",
            " sampling_9 (Sampling)          (None, 2)            0           ['z_mean[0][0]',                 \n",
            "                                                                  'z_log_var[0][0]']              \n",
            "                                                                                                  \n",
            "==================================================================================================\n",
            "Total params: 227,634\n",
            "Trainable params: 227,634\n",
            "Non-trainable params: 0\n",
            "__________________________________________________________________________________________________\n",
            "Model: \"decoder\"\n",
            "_________________________________________________________________\n",
            " Layer (type)                Output Shape              Param #   \n",
            "=================================================================\n",
            " input_17 (InputLayer)       [(None, 2)]               0         \n",
            "                                                                 \n",
            " dense_62 (Dense)            (None, 16)                48        \n",
            "                                                                 \n",
            " dense_63 (Dense)            (None, 150)               2550      \n",
            "                                                                 \n",
            " dense_64 (Dense)            (None, 1500)              226500    \n",
            "                                                                 \n",
            " flatten_32 (Flatten)        (None, 1500)              0         \n",
            "                                                                 \n",
            "=================================================================\n",
            "Total params: 229,098\n",
            "Trainable params: 229,098\n",
            "Non-trainable params: 0\n",
            "_________________________________________________________________\n"
          ]
        }
      ]
    },
    {
      "cell_type": "code",
      "source": [
        "vae = VAE(encoder, decoder)\n",
        "vae.compile(optimizer ='rmsprop')\n",
        "vae.fit(x_train, x_train, epochs = 100, batch_size = 64)"
      ],
      "metadata": {
        "colab": {
          "base_uri": "https://localhost:8080/"
        },
        "id": "x386h8wvdeLE",
        "outputId": "345d4ca1-59df-415b-eb38-cbf3b28c27e9"
      },
      "execution_count": 122,
      "outputs": [
        {
          "output_type": "stream",
          "name": "stdout",
          "text": [
            "Epoch 1/100\n",
            "41/41 [==============================] - 2s 15ms/step - loss: 114.6718 - reconstruction_loss: 87.8880 - kl_loss: 26.7838\n",
            "Epoch 2/100\n",
            "41/41 [==============================] - 1s 16ms/step - loss: 34.0666 - reconstruction_loss: 24.8892 - kl_loss: 9.1774\n",
            "Epoch 3/100\n",
            "41/41 [==============================] - 1s 15ms/step - loss: 26.1462 - reconstruction_loss: 22.4389 - kl_loss: 3.7074\n",
            "Epoch 4/100\n",
            "41/41 [==============================] - 1s 16ms/step - loss: 19.5757 - reconstruction_loss: 16.1723 - kl_loss: 3.4034\n",
            "Epoch 5/100\n",
            "41/41 [==============================] - 1s 14ms/step - loss: 13.0380 - reconstruction_loss: 10.0979 - kl_loss: 2.9401\n",
            "Epoch 6/100\n",
            "41/41 [==============================] - 1s 16ms/step - loss: 10.9687 - reconstruction_loss: 8.9730 - kl_loss: 1.9957\n",
            "Epoch 7/100\n",
            "41/41 [==============================] - 1s 15ms/step - loss: 10.1305 - reconstruction_loss: 8.6133 - kl_loss: 1.5172\n",
            "Epoch 8/100\n",
            "41/41 [==============================] - 1s 15ms/step - loss: 9.5112 - reconstruction_loss: 8.1193 - kl_loss: 1.3919\n",
            "Epoch 9/100\n",
            "41/41 [==============================] - 1s 15ms/step - loss: 8.8245 - reconstruction_loss: 7.5342 - kl_loss: 1.2903\n",
            "Epoch 10/100\n",
            "41/41 [==============================] - 1s 15ms/step - loss: 7.9025 - reconstruction_loss: 6.6270 - kl_loss: 1.2755\n",
            "Epoch 11/100\n",
            "41/41 [==============================] - 1s 16ms/step - loss: 7.5435 - reconstruction_loss: 6.2309 - kl_loss: 1.3126\n",
            "Epoch 12/100\n",
            "41/41 [==============================] - 1s 15ms/step - loss: 6.8325 - reconstruction_loss: 5.5075 - kl_loss: 1.3251\n",
            "Epoch 13/100\n",
            "41/41 [==============================] - 1s 14ms/step - loss: 6.6758 - reconstruction_loss: 5.2182 - kl_loss: 1.4577\n",
            "Epoch 14/100\n",
            "41/41 [==============================] - 1s 15ms/step - loss: 6.4421 - reconstruction_loss: 5.0095 - kl_loss: 1.4327\n",
            "Epoch 15/100\n",
            "41/41 [==============================] - 1s 15ms/step - loss: 6.5912 - reconstruction_loss: 5.1459 - kl_loss: 1.4452\n",
            "Epoch 16/100\n",
            "41/41 [==============================] - 1s 16ms/step - loss: 6.1378 - reconstruction_loss: 4.6794 - kl_loss: 1.4584\n",
            "Epoch 17/100\n",
            "41/41 [==============================] - 1s 15ms/step - loss: 5.8476 - reconstruction_loss: 4.4200 - kl_loss: 1.4276\n",
            "Epoch 18/100\n",
            "41/41 [==============================] - 1s 16ms/step - loss: 5.9438 - reconstruction_loss: 4.4918 - kl_loss: 1.4521\n",
            "Epoch 19/100\n",
            "41/41 [==============================] - 1s 16ms/step - loss: 5.7282 - reconstruction_loss: 4.2481 - kl_loss: 1.4802\n",
            "Epoch 20/100\n",
            "41/41 [==============================] - 1s 16ms/step - loss: 5.6878 - reconstruction_loss: 4.2187 - kl_loss: 1.4691\n",
            "Epoch 21/100\n",
            "41/41 [==============================] - 1s 15ms/step - loss: 5.5519 - reconstruction_loss: 4.1367 - kl_loss: 1.4152\n",
            "Epoch 22/100\n",
            "41/41 [==============================] - 1s 15ms/step - loss: 5.6007 - reconstruction_loss: 4.1278 - kl_loss: 1.4729\n",
            "Epoch 23/100\n",
            "41/41 [==============================] - 1s 15ms/step - loss: 5.6384 - reconstruction_loss: 4.0949 - kl_loss: 1.5434\n",
            "Epoch 24/100\n",
            "41/41 [==============================] - 1s 18ms/step - loss: 5.5274 - reconstruction_loss: 4.0570 - kl_loss: 1.4704\n",
            "Epoch 25/100\n",
            "41/41 [==============================] - 1s 15ms/step - loss: 5.2831 - reconstruction_loss: 3.8454 - kl_loss: 1.4377\n",
            "Epoch 26/100\n",
            "41/41 [==============================] - 1s 15ms/step - loss: 5.2887 - reconstruction_loss: 3.8460 - kl_loss: 1.4427\n",
            "Epoch 27/100\n",
            "41/41 [==============================] - 1s 16ms/step - loss: 5.2684 - reconstruction_loss: 3.7588 - kl_loss: 1.5096\n",
            "Epoch 28/100\n",
            "41/41 [==============================] - 1s 15ms/step - loss: 5.4266 - reconstruction_loss: 3.9140 - kl_loss: 1.5126\n",
            "Epoch 29/100\n",
            "41/41 [==============================] - 1s 16ms/step - loss: 5.1808 - reconstruction_loss: 3.6789 - kl_loss: 1.5019\n",
            "Epoch 30/100\n",
            "41/41 [==============================] - 1s 15ms/step - loss: 5.2030 - reconstruction_loss: 3.6530 - kl_loss: 1.5500\n",
            "Epoch 31/100\n",
            "41/41 [==============================] - 1s 16ms/step - loss: 5.0774 - reconstruction_loss: 3.6027 - kl_loss: 1.4746\n",
            "Epoch 32/100\n",
            "41/41 [==============================] - 1s 15ms/step - loss: 5.1889 - reconstruction_loss: 3.7286 - kl_loss: 1.4603\n",
            "Epoch 33/100\n",
            "41/41 [==============================] - 1s 15ms/step - loss: 5.2375 - reconstruction_loss: 3.7063 - kl_loss: 1.5313\n",
            "Epoch 34/100\n",
            "41/41 [==============================] - 1s 14ms/step - loss: 5.0834 - reconstruction_loss: 3.5827 - kl_loss: 1.5007\n",
            "Epoch 35/100\n",
            "41/41 [==============================] - 1s 14ms/step - loss: 5.0934 - reconstruction_loss: 3.5667 - kl_loss: 1.5267\n",
            "Epoch 36/100\n",
            "41/41 [==============================] - 1s 16ms/step - loss: 4.9655 - reconstruction_loss: 3.4602 - kl_loss: 1.5053\n",
            "Epoch 37/100\n",
            "41/41 [==============================] - 1s 14ms/step - loss: 4.9846 - reconstruction_loss: 3.4832 - kl_loss: 1.5014\n",
            "Epoch 38/100\n",
            "41/41 [==============================] - 1s 15ms/step - loss: 4.9473 - reconstruction_loss: 3.4187 - kl_loss: 1.5286\n",
            "Epoch 39/100\n",
            "41/41 [==============================] - 1s 14ms/step - loss: 4.9745 - reconstruction_loss: 3.4294 - kl_loss: 1.5451\n",
            "Epoch 40/100\n",
            "41/41 [==============================] - 1s 15ms/step - loss: 4.8558 - reconstruction_loss: 3.3909 - kl_loss: 1.4650\n",
            "Epoch 41/100\n",
            "41/41 [==============================] - 1s 14ms/step - loss: 4.7493 - reconstruction_loss: 3.2435 - kl_loss: 1.5058\n",
            "Epoch 42/100\n",
            "41/41 [==============================] - 1s 14ms/step - loss: 4.9368 - reconstruction_loss: 3.4120 - kl_loss: 1.5248\n",
            "Epoch 43/100\n",
            "41/41 [==============================] - 1s 16ms/step - loss: 4.8979 - reconstruction_loss: 3.3377 - kl_loss: 1.5601\n",
            "Epoch 44/100\n",
            "41/41 [==============================] - 1s 15ms/step - loss: 4.7858 - reconstruction_loss: 3.2566 - kl_loss: 1.5292\n",
            "Epoch 45/100\n",
            "41/41 [==============================] - 1s 16ms/step - loss: 4.8912 - reconstruction_loss: 3.3538 - kl_loss: 1.5375\n",
            "Epoch 46/100\n",
            "41/41 [==============================] - 1s 15ms/step - loss: 4.8414 - reconstruction_loss: 3.2987 - kl_loss: 1.5427\n",
            "Epoch 47/100\n",
            "41/41 [==============================] - 1s 15ms/step - loss: 4.7118 - reconstruction_loss: 3.1411 - kl_loss: 1.5707\n",
            "Epoch 48/100\n",
            "41/41 [==============================] - 1s 16ms/step - loss: 4.9104 - reconstruction_loss: 3.3840 - kl_loss: 1.5264\n",
            "Epoch 49/100\n",
            "41/41 [==============================] - 1s 15ms/step - loss: 4.5822 - reconstruction_loss: 3.0645 - kl_loss: 1.5177\n",
            "Epoch 50/100\n",
            "41/41 [==============================] - 1s 15ms/step - loss: 4.6542 - reconstruction_loss: 3.1417 - kl_loss: 1.5125\n",
            "Epoch 51/100\n",
            "41/41 [==============================] - 1s 15ms/step - loss: 4.6491 - reconstruction_loss: 3.0708 - kl_loss: 1.5783\n",
            "Epoch 52/100\n",
            "41/41 [==============================] - 1s 15ms/step - loss: 4.7228 - reconstruction_loss: 3.1706 - kl_loss: 1.5523\n",
            "Epoch 53/100\n",
            "41/41 [==============================] - 1s 15ms/step - loss: 4.6991 - reconstruction_loss: 3.1370 - kl_loss: 1.5620\n",
            "Epoch 54/100\n",
            "41/41 [==============================] - 1s 16ms/step - loss: 4.4841 - reconstruction_loss: 2.9313 - kl_loss: 1.5528\n",
            "Epoch 55/100\n",
            "41/41 [==============================] - 1s 16ms/step - loss: 4.6065 - reconstruction_loss: 3.0121 - kl_loss: 1.5944\n",
            "Epoch 56/100\n",
            "41/41 [==============================] - 1s 15ms/step - loss: 4.5206 - reconstruction_loss: 2.9201 - kl_loss: 1.6004\n",
            "Epoch 57/100\n",
            "41/41 [==============================] - 1s 15ms/step - loss: 4.5981 - reconstruction_loss: 3.0299 - kl_loss: 1.5682\n",
            "Epoch 58/100\n",
            "41/41 [==============================] - 1s 32ms/step - loss: 4.5009 - reconstruction_loss: 2.9288 - kl_loss: 1.5721\n",
            "Epoch 59/100\n",
            "41/41 [==============================] - 1s 15ms/step - loss: 4.5264 - reconstruction_loss: 2.9504 - kl_loss: 1.5760\n",
            "Epoch 60/100\n",
            "41/41 [==============================] - 1s 16ms/step - loss: 4.4822 - reconstruction_loss: 2.8992 - kl_loss: 1.5830\n",
            "Epoch 61/100\n",
            "41/41 [==============================] - 1s 15ms/step - loss: 4.4101 - reconstruction_loss: 2.8078 - kl_loss: 1.6023\n",
            "Epoch 62/100\n",
            "41/41 [==============================] - 1s 15ms/step - loss: 4.5412 - reconstruction_loss: 2.9412 - kl_loss: 1.6000\n",
            "Epoch 63/100\n",
            "41/41 [==============================] - 1s 14ms/step - loss: 4.3009 - reconstruction_loss: 2.6768 - kl_loss: 1.6241\n",
            "Epoch 64/100\n",
            "41/41 [==============================] - 1s 15ms/step - loss: 4.3521 - reconstruction_loss: 2.7867 - kl_loss: 1.5655\n",
            "Epoch 65/100\n",
            "41/41 [==============================] - 1s 16ms/step - loss: 4.4952 - reconstruction_loss: 2.8393 - kl_loss: 1.6559\n",
            "Epoch 66/100\n",
            "41/41 [==============================] - 1s 15ms/step - loss: 4.2199 - reconstruction_loss: 2.5993 - kl_loss: 1.6206\n",
            "Epoch 67/100\n",
            "41/41 [==============================] - 1s 14ms/step - loss: 4.3131 - reconstruction_loss: 2.7382 - kl_loss: 1.5749\n",
            "Epoch 68/100\n",
            "41/41 [==============================] - 1s 15ms/step - loss: 4.2569 - reconstruction_loss: 2.6466 - kl_loss: 1.6103\n",
            "Epoch 69/100\n",
            "41/41 [==============================] - 1s 14ms/step - loss: 4.3540 - reconstruction_loss: 2.7690 - kl_loss: 1.5850\n",
            "Epoch 70/100\n",
            "41/41 [==============================] - 1s 15ms/step - loss: 4.2026 - reconstruction_loss: 2.6639 - kl_loss: 1.5387\n",
            "Epoch 71/100\n",
            "41/41 [==============================] - 1s 14ms/step - loss: 4.2280 - reconstruction_loss: 2.6140 - kl_loss: 1.6140\n",
            "Epoch 72/100\n",
            "41/41 [==============================] - 1s 15ms/step - loss: 4.3105 - reconstruction_loss: 2.6427 - kl_loss: 1.6678\n",
            "Epoch 73/100\n",
            "41/41 [==============================] - 1s 15ms/step - loss: 4.1725 - reconstruction_loss: 2.5850 - kl_loss: 1.5875\n",
            "Epoch 74/100\n",
            "41/41 [==============================] - 1s 15ms/step - loss: 4.2161 - reconstruction_loss: 2.5777 - kl_loss: 1.6385\n",
            "Epoch 75/100\n",
            "41/41 [==============================] - 1s 14ms/step - loss: 4.1457 - reconstruction_loss: 2.5198 - kl_loss: 1.6260\n",
            "Epoch 76/100\n",
            "41/41 [==============================] - 1s 15ms/step - loss: 4.4450 - reconstruction_loss: 2.7985 - kl_loss: 1.6465\n",
            "Epoch 77/100\n",
            "41/41 [==============================] - 1s 15ms/step - loss: 4.0495 - reconstruction_loss: 2.4204 - kl_loss: 1.6291\n",
            "Epoch 78/100\n",
            "41/41 [==============================] - 1s 14ms/step - loss: 4.1802 - reconstruction_loss: 2.5024 - kl_loss: 1.6778\n",
            "Epoch 79/100\n",
            "41/41 [==============================] - 1s 16ms/step - loss: 4.0167 - reconstruction_loss: 2.4034 - kl_loss: 1.6133\n",
            "Epoch 80/100\n",
            "41/41 [==============================] - 1s 15ms/step - loss: 4.1660 - reconstruction_loss: 2.4564 - kl_loss: 1.7096\n",
            "Epoch 81/100\n",
            "41/41 [==============================] - 1s 14ms/step - loss: 4.0396 - reconstruction_loss: 2.4116 - kl_loss: 1.6280\n",
            "Epoch 82/100\n",
            "41/41 [==============================] - 1s 15ms/step - loss: 3.9572 - reconstruction_loss: 2.3202 - kl_loss: 1.6370\n",
            "Epoch 83/100\n",
            "41/41 [==============================] - 1s 15ms/step - loss: 4.0525 - reconstruction_loss: 2.4267 - kl_loss: 1.6259\n",
            "Epoch 84/100\n",
            "41/41 [==============================] - 1s 15ms/step - loss: 4.0120 - reconstruction_loss: 2.3594 - kl_loss: 1.6526\n",
            "Epoch 85/100\n",
            "41/41 [==============================] - 1s 15ms/step - loss: 3.9602 - reconstruction_loss: 2.3146 - kl_loss: 1.6456\n",
            "Epoch 86/100\n",
            "41/41 [==============================] - 1s 15ms/step - loss: 4.0614 - reconstruction_loss: 2.3789 - kl_loss: 1.6825\n",
            "Epoch 87/100\n",
            "41/41 [==============================] - 1s 15ms/step - loss: 3.9404 - reconstruction_loss: 2.2597 - kl_loss: 1.6807\n",
            "Epoch 88/100\n",
            "41/41 [==============================] - 1s 16ms/step - loss: 3.9457 - reconstruction_loss: 2.2985 - kl_loss: 1.6472\n",
            "Epoch 89/100\n",
            "41/41 [==============================] - 1s 14ms/step - loss: 3.8718 - reconstruction_loss: 2.2321 - kl_loss: 1.6397\n",
            "Epoch 90/100\n",
            "41/41 [==============================] - 1s 15ms/step - loss: 3.9076 - reconstruction_loss: 2.2305 - kl_loss: 1.6771\n",
            "Epoch 91/100\n",
            "41/41 [==============================] - 1s 14ms/step - loss: 3.9098 - reconstruction_loss: 2.2743 - kl_loss: 1.6356\n",
            "Epoch 92/100\n",
            "41/41 [==============================] - 1s 15ms/step - loss: 3.9218 - reconstruction_loss: 2.2443 - kl_loss: 1.6775\n",
            "Epoch 93/100\n",
            "41/41 [==============================] - 1s 15ms/step - loss: 3.9617 - reconstruction_loss: 2.2899 - kl_loss: 1.6719\n",
            "Epoch 94/100\n",
            "41/41 [==============================] - 1s 14ms/step - loss: 3.8709 - reconstruction_loss: 2.1843 - kl_loss: 1.6866\n",
            "Epoch 95/100\n",
            "41/41 [==============================] - 1s 15ms/step - loss: 3.8722 - reconstruction_loss: 2.2177 - kl_loss: 1.6545\n",
            "Epoch 96/100\n",
            "41/41 [==============================] - 1s 15ms/step - loss: 3.8506 - reconstruction_loss: 2.2031 - kl_loss: 1.6475\n",
            "Epoch 97/100\n",
            "41/41 [==============================] - 1s 16ms/step - loss: 3.8539 - reconstruction_loss: 2.1279 - kl_loss: 1.7260\n",
            "Epoch 98/100\n",
            "41/41 [==============================] - 1s 15ms/step - loss: 3.8156 - reconstruction_loss: 2.0793 - kl_loss: 1.7362\n",
            "Epoch 99/100\n",
            "41/41 [==============================] - 1s 15ms/step - loss: 3.8354 - reconstruction_loss: 2.1893 - kl_loss: 1.6461\n",
            "Epoch 100/100\n",
            "41/41 [==============================] - 1s 15ms/step - loss: 3.8164 - reconstruction_loss: 2.0446 - kl_loss: 1.7718\n"
          ]
        },
        {
          "output_type": "execute_result",
          "data": {
            "text/plain": [
              "<keras.callbacks.History at 0x7f3578a3f4f0>"
            ]
          },
          "metadata": {},
          "execution_count": 122
        }
      ]
    },
    {
      "cell_type": "code",
      "source": [
        "# Convert labels to tensor\n",
        "le = LabelEncoder()\n",
        "labels = le.fit_transform(y_train)\n",
        "input_label_train = tf.convert_to_tensor(labels) \n",
        "mapping = dict(zip(range(len(le.classes_)),le.classes_))\n",
        "print(mapping)\n",
        "labels = mapping\n",
        "\n",
        "\n",
        "plot_label_clusters(encoder, decoder, x_train, input_label_train)"
      ],
      "metadata": {
        "colab": {
          "base_uri": "https://localhost:8080/",
          "height": 646
        },
        "id": "X8VG9kA0dh36",
        "outputId": "580652a9-dfa4-435e-d772-acb11c916622"
      },
      "execution_count": 131,
      "outputs": [
        {
          "output_type": "stream",
          "name": "stdout",
          "text": [
            "{0: 'Bacillus amyloliquefaciens', 1: 'Bacillus anthracis', 2: 'Bacillus cereus', 3: 'Bacillus cytotoxicus', 4: 'Bacillus licheniformis', 5: 'Bacillus subtilis', 6: 'Bacillus thuringiensis', 7: 'Bacillus velezensis'}\n",
            "81/81 [==============================] - 0s 2ms/step\n"
          ]
        },
        {
          "output_type": "display_data",
          "data": {
            "text/plain": [
              "<Figure size 864x720 with 2 Axes>"
            ],
            "image/png": "[encoded data removed]"
          },
          "metadata": {
            "needs_background": "light"
          }
        }
      ]
    },
    {
      "cell_type": "code",
      "source": [
        "print(len(x_train))\n",
        "print(len(y_train))"
      ],
      "metadata": {
        "colab": {
          "base_uri": "https://localhost:8080/"
        },
        "id": "g5IRT1OQf0dB",
        "outputId": "9e461f29-6cb3-455b-c317-b8a316e1589e"
      },
      "execution_count": 130,
      "outputs": [
        {
          "output_type": "stream",
          "name": "stdout",
          "text": [
            "2590\n",
            "2590\n"
          ]
        }
      ]
    },
    {
      "cell_type": "markdown",
      "source": [
        "## Increase more"
      ],
      "metadata": {
        "id": "7vpJpA_jgjEO"
      }
    },
    {
      "cell_type": "code",
      "source": [
        "flatted_sequence = list()\n",
        "sequence_labels = list()\n",
        "\n",
        "with open('drive/MyDrive/Colab Notebooks/autoencoder_data/bacillus.aln') as handle:\n",
        "  for record in SeqIO.parse(handle, 'fasta'):\n",
        "    #seq = hot_dna(str(record.seq)[10:160]).integer\n",
        "    #encoded = encode_dna(flatten(seq))\n",
        "    label = str(record.description).rsplit(';', 1)[-1]\n",
        "      \n",
        "    #flatted_sequence.append(encoded)\n",
        "    #flatted_sequence.append([tf.convert_to_tensor(flatten(hot_dna(str(record.seq)[10:160]).onehot))])\n",
        "    seq_hot = flatten(hot_dna(str(record.seq)[10:610]).onehot)\n",
        "    \n",
        "    if len(seq_hot) == 3000:\n",
        "      flatted_sequence.append(seq_hot)\n",
        "      sequence_labels.append(label)\n",
        "  \n",
        "x_train, x_test, y_train, y_test = train_test_split(flatted_sequence, sequence_labels,test_size = 0.01)\n",
        "\n",
        "print(f\"The training set contains {len(x_train)} sequences\")\n",
        "print(\"The sequences are from the following species: \")\n",
        "print(Counter(y_train))\n",
        "print(\"---------------------------------\")\n",
        "print(f\"The training set contains {len(x_test)} sequences\")\n",
        "print(\"The sequences are from the following species: \")\n",
        "print(Counter(y_test))\n",
        "\n",
        "\n",
        "# Define Encoder Model\n",
        "latent_dim = 2\n",
        "\n",
        "encoder_inputs = Input(shape =(3000))\n",
        "x = Flatten()(encoder_inputs)\n",
        "x = Dense(150, activation = \"relu\")(x)\n",
        "x = Dense(16, activation =\"relu\")(x)\n",
        "z_mean = Dense(latent_dim, name =\"z_mean\")(x)\n",
        "z_log_var = Dense(latent_dim, name =\"z_log_var\")(x)\n",
        "z = Sampling()([z_mean, z_log_var])\n",
        "encoder = Model(encoder_inputs, [z_mean, z_log_var, z], name =\"encoder\")\n",
        "encoder.summary()\n",
        "\n",
        "# Define Decoder Architecture\n",
        "latent_inputs = tf.keras.Input(shape =(latent_dim, ))\n",
        "x = Dense(16, activation =\"relu\")(latent_inputs)\n",
        "x = Dense(150, activation = \"relu\")(x)\n",
        "x = Dense(3000, activation = \"sigmoid\")(x)\n",
        "decoder_outputs = Flatten()(x)\n",
        "decoder = Model(latent_inputs, decoder_outputs, name =\"decoder\")\n",
        "decoder.summary()\n",
        "\n",
        "class VAE(tf.keras.Model):\n",
        "  def __init__(self, encoder, decoder, **kwargs):\n",
        "    super(VAE, self).__init__(**kwargs)\n",
        "    self.decoder = decoder\n",
        "    self.encoder = encoder\n",
        "\n",
        "  def train_step(self, data):\n",
        "    if isinstance(data, tuple):\n",
        "      data = data[0]\n",
        "      with tf.GradientTape() as tape:\n",
        "        z_mean, z_log_var, z = encoder(data)\n",
        "        reconstruction = decoder(z)\n",
        "        reconstruction_loss = tf.reduce_mean(\n",
        "        tf.keras.losses.binary_crossentropy(data, reconstruction)\n",
        "        )\n",
        "        reconstruction_loss *= 28 * 28\n",
        "        kl_loss = 1 + z_log_var - tf.square(z_mean) - tf.exp(z_log_var)\n",
        "        kl_loss = tf.reduce_mean(kl_loss)\n",
        "        kl_loss *= -0.5\n",
        "        total_loss = reconstruction_loss + kl_loss\n",
        "      grads = tape.gradient(total_loss, self.trainable_weights)\n",
        "      self.optimizer.apply_gradients(zip(grads, self.trainable_weights))\n",
        "      return {\n",
        "        \"loss\": total_loss,\n",
        "        \"reconstruction_loss\": reconstruction_loss,\n",
        "        \"kl_loss\": kl_loss,\n",
        "        }"
      ],
      "metadata": {
        "colab": {
          "base_uri": "https://localhost:8080/"
        },
        "id": "vOz94Kx-giMg",
        "outputId": "4f7f1fb2-9866-4a21-a84e-e2b936ec91ab"
      },
      "execution_count": 132,
      "outputs": [
        {
          "output_type": "stream",
          "name": "stdout",
          "text": [
            "The training set contains 2578 sequences\n",
            "The sequences are from the following species: \n",
            "Counter({'Bacillus subtilis': 621, 'Bacillus velezensis': 514, 'Bacillus cereus': 421, 'Bacillus anthracis': 373, 'Bacillus thuringiensis': 267, 'Bacillus amyloliquefaciens': 140, 'Bacillus cytotoxicus': 128, 'Bacillus licheniformis': 114})\n",
            "---------------------------------\n",
            "The training set contains 27 sequences\n",
            "The sequences are from the following species: \n",
            "Counter({'Bacillus cereus': 9, 'Bacillus velezensis': 8, 'Bacillus subtilis': 5, 'Bacillus amyloliquefaciens': 2, 'Bacillus thuringiensis': 1, 'Bacillus anthracis': 1, 'Bacillus cytotoxicus': 1})\n",
            "Model: \"encoder\"\n",
            "__________________________________________________________________________________________________\n",
            " Layer (type)                   Output Shape         Param #     Connected to                     \n",
            "==================================================================================================\n",
            " input_18 (InputLayer)          [(None, 3000)]       0           []                               \n",
            "                                                                                                  \n",
            " flatten_33 (Flatten)           (None, 3000)         0           ['input_18[0][0]']               \n",
            "                                                                                                  \n",
            " dense_65 (Dense)               (None, 150)          450150      ['flatten_33[0][0]']             \n",
            "                                                                                                  \n",
            " dense_66 (Dense)               (None, 16)           2416        ['dense_65[0][0]']               \n",
            "                                                                                                  \n",
            " z_mean (Dense)                 (None, 2)            34          ['dense_66[0][0]']               \n",
            "                                                                                                  \n",
            " z_log_var (Dense)              (None, 2)            34          ['dense_66[0][0]']               \n",
            "                                                                                                  \n",
            " sampling_10 (Sampling)         (None, 2)            0           ['z_mean[0][0]',                 \n",
            "                                                                  'z_log_var[0][0]']              \n",
            "                                                                                                  \n",
            "==================================================================================================\n",
            "Total params: 452,634\n",
            "Trainable params: 452,634\n",
            "Non-trainable params: 0\n",
            "__________________________________________________________________________________________________\n",
            "Model: \"decoder\"\n",
            "_________________________________________________________________\n",
            " Layer (type)                Output Shape              Param #   \n",
            "=================================================================\n",
            " input_19 (InputLayer)       [(None, 2)]               0         \n",
            "                                                                 \n",
            " dense_67 (Dense)            (None, 16)                48        \n",
            "                                                                 \n",
            " dense_68 (Dense)            (None, 150)               2550      \n",
            "                                                                 \n",
            " dense_69 (Dense)            (None, 3000)              453000    \n",
            "                                                                 \n",
            " flatten_34 (Flatten)        (None, 3000)              0         \n",
            "                                                                 \n",
            "=================================================================\n",
            "Total params: 455,598\n",
            "Trainable params: 455,598\n",
            "Non-trainable params: 0\n",
            "_________________________________________________________________\n"
          ]
        }
      ]
    },
    {
      "cell_type": "code",
      "source": [
        "vae = VAE(encoder, decoder)\n",
        "vae.compile(optimizer ='rmsprop')\n",
        "vae.fit(x_train, x_train, epochs = 100, batch_size = 64)"
      ],
      "metadata": {
        "colab": {
          "base_uri": "https://localhost:8080/"
        },
        "id": "ZLCGU8Dqde6E",
        "outputId": "364c8076-ff93-47b6-8aee-a94451791f46"
      },
      "execution_count": 133,
      "outputs": [
        {
          "output_type": "stream",
          "name": "stdout",
          "text": [
            "Epoch 1/100\n",
            "41/41 [==============================] - 2s 24ms/step - loss: 111.8299 - reconstruction_loss: 85.3204 - kl_loss: 26.5095\n",
            "Epoch 2/100\n",
            "41/41 [==============================] - 1s 23ms/step - loss: 29.0388 - reconstruction_loss: 22.4152 - kl_loss: 6.6236\n",
            "Epoch 3/100\n",
            "41/41 [==============================] - 1s 23ms/step - loss: 19.2353 - reconstruction_loss: 15.3875 - kl_loss: 3.8478\n",
            "Epoch 4/100\n",
            "41/41 [==============================] - 1s 23ms/step - loss: 11.8317 - reconstruction_loss: 8.5649 - kl_loss: 3.2668\n",
            "Epoch 5/100\n",
            "41/41 [==============================] - 1s 23ms/step - loss: 9.9021 - reconstruction_loss: 7.5802 - kl_loss: 2.3220\n",
            "Epoch 6/100\n",
            "41/41 [==============================] - 1s 24ms/step - loss: 9.4648 - reconstruction_loss: 7.5391 - kl_loss: 1.9258\n",
            "Epoch 7/100\n",
            "41/41 [==============================] - 1s 23ms/step - loss: 9.3861 - reconstruction_loss: 7.5915 - kl_loss: 1.7946\n",
            "Epoch 8/100\n",
            "41/41 [==============================] - 1s 23ms/step - loss: 8.4673 - reconstruction_loss: 6.9757 - kl_loss: 1.4916\n",
            "Epoch 9/100\n",
            "41/41 [==============================] - 1s 23ms/step - loss: 8.2406 - reconstruction_loss: 6.8109 - kl_loss: 1.4297\n",
            "Epoch 10/100\n",
            "41/41 [==============================] - 1s 23ms/step - loss: 8.1342 - reconstruction_loss: 6.7150 - kl_loss: 1.4191\n",
            "Epoch 11/100\n",
            "41/41 [==============================] - 1s 25ms/step - loss: 8.1534 - reconstruction_loss: 6.7744 - kl_loss: 1.3790\n",
            "Epoch 12/100\n",
            "41/41 [==============================] - 1s 23ms/step - loss: 7.7896 - reconstruction_loss: 6.3833 - kl_loss: 1.4064\n",
            "Epoch 13/100\n",
            "41/41 [==============================] - 1s 24ms/step - loss: 7.4340 - reconstruction_loss: 6.0762 - kl_loss: 1.3578\n",
            "Epoch 14/100\n",
            "41/41 [==============================] - 1s 24ms/step - loss: 7.1223 - reconstruction_loss: 5.7629 - kl_loss: 1.3595\n",
            "Epoch 15/100\n",
            "41/41 [==============================] - 1s 26ms/step - loss: 6.8312 - reconstruction_loss: 5.3926 - kl_loss: 1.4386\n",
            "Epoch 16/100\n",
            "41/41 [==============================] - 1s 24ms/step - loss: 6.6556 - reconstruction_loss: 5.2389 - kl_loss: 1.4166\n",
            "Epoch 17/100\n",
            "41/41 [==============================] - 1s 24ms/step - loss: 6.8558 - reconstruction_loss: 5.4026 - kl_loss: 1.4532\n",
            "Epoch 18/100\n",
            "41/41 [==============================] - 1s 24ms/step - loss: 6.2955 - reconstruction_loss: 4.8869 - kl_loss: 1.4086\n",
            "Epoch 19/100\n",
            "41/41 [==============================] - 1s 24ms/step - loss: 6.1053 - reconstruction_loss: 4.6900 - kl_loss: 1.4153\n",
            "Epoch 20/100\n",
            "41/41 [==============================] - 1s 23ms/step - loss: 6.2115 - reconstruction_loss: 4.7823 - kl_loss: 1.4292\n",
            "Epoch 21/100\n",
            "41/41 [==============================] - 1s 24ms/step - loss: 5.8505 - reconstruction_loss: 4.4014 - kl_loss: 1.4491\n",
            "Epoch 22/100\n",
            "41/41 [==============================] - 2s 42ms/step - loss: 6.3396 - reconstruction_loss: 4.8177 - kl_loss: 1.5219\n",
            "Epoch 23/100\n",
            "41/41 [==============================] - 2s 51ms/step - loss: 5.7036 - reconstruction_loss: 4.2769 - kl_loss: 1.4267\n",
            "Epoch 24/100\n",
            "41/41 [==============================] - 2s 50ms/step - loss: 5.5640 - reconstruction_loss: 4.1121 - kl_loss: 1.4519\n",
            "Epoch 25/100\n",
            "41/41 [==============================] - 2s 44ms/step - loss: 5.6313 - reconstruction_loss: 4.2136 - kl_loss: 1.4177\n",
            "Epoch 26/100\n",
            "41/41 [==============================] - 1s 25ms/step - loss: 5.7758 - reconstruction_loss: 4.3355 - kl_loss: 1.4403\n",
            "Epoch 27/100\n",
            "41/41 [==============================] - 1s 24ms/step - loss: 5.6816 - reconstruction_loss: 4.1824 - kl_loss: 1.4993\n",
            "Epoch 28/100\n",
            "41/41 [==============================] - 1s 24ms/step - loss: 5.5945 - reconstruction_loss: 4.1173 - kl_loss: 1.4772\n",
            "Epoch 29/100\n",
            "41/41 [==============================] - 1s 25ms/step - loss: 5.5078 - reconstruction_loss: 4.0457 - kl_loss: 1.4621\n",
            "Epoch 30/100\n",
            "41/41 [==============================] - 1s 24ms/step - loss: 5.4530 - reconstruction_loss: 4.0031 - kl_loss: 1.4499\n",
            "Epoch 31/100\n",
            "41/41 [==============================] - 1s 23ms/step - loss: 5.2887 - reconstruction_loss: 3.8521 - kl_loss: 1.4366\n",
            "Epoch 32/100\n",
            "41/41 [==============================] - 1s 24ms/step - loss: 5.4814 - reconstruction_loss: 4.0534 - kl_loss: 1.4281\n",
            "Epoch 33/100\n",
            "41/41 [==============================] - 1s 24ms/step - loss: 5.1202 - reconstruction_loss: 3.7320 - kl_loss: 1.3882\n",
            "Epoch 34/100\n",
            "41/41 [==============================] - 1s 23ms/step - loss: 5.5085 - reconstruction_loss: 4.0112 - kl_loss: 1.4973\n",
            "Epoch 35/100\n",
            "41/41 [==============================] - 1s 24ms/step - loss: 5.3053 - reconstruction_loss: 3.8304 - kl_loss: 1.4749\n",
            "Epoch 36/100\n",
            "41/41 [==============================] - 1s 23ms/step - loss: 5.2016 - reconstruction_loss: 3.7312 - kl_loss: 1.4704\n",
            "Epoch 37/100\n",
            "41/41 [==============================] - 1s 24ms/step - loss: 5.9502 - reconstruction_loss: 4.5544 - kl_loss: 1.3958\n",
            "Epoch 38/100\n",
            "41/41 [==============================] - 1s 24ms/step - loss: 5.1499 - reconstruction_loss: 3.6798 - kl_loss: 1.4701\n",
            "Epoch 39/100\n",
            "41/41 [==============================] - 1s 24ms/step - loss: 5.4821 - reconstruction_loss: 3.9734 - kl_loss: 1.5087\n",
            "Epoch 40/100\n",
            "41/41 [==============================] - 1s 23ms/step - loss: 5.1769 - reconstruction_loss: 3.6848 - kl_loss: 1.4921\n",
            "Epoch 41/100\n",
            "41/41 [==============================] - 1s 23ms/step - loss: 5.0541 - reconstruction_loss: 3.5830 - kl_loss: 1.4711\n",
            "Epoch 42/100\n",
            "41/41 [==============================] - 1s 24ms/step - loss: 5.1125 - reconstruction_loss: 3.6626 - kl_loss: 1.4498\n",
            "Epoch 43/100\n",
            "41/41 [==============================] - 1s 24ms/step - loss: 5.2356 - reconstruction_loss: 3.7626 - kl_loss: 1.4729\n",
            "Epoch 44/100\n",
            "41/41 [==============================] - 1s 23ms/step - loss: 5.1575 - reconstruction_loss: 3.7144 - kl_loss: 1.4431\n",
            "Epoch 45/100\n",
            "41/41 [==============================] - 1s 22ms/step - loss: 4.9700 - reconstruction_loss: 3.5006 - kl_loss: 1.4693\n",
            "Epoch 46/100\n",
            "41/41 [==============================] - 1s 24ms/step - loss: 5.0420 - reconstruction_loss: 3.5234 - kl_loss: 1.5187\n",
            "Epoch 47/100\n",
            "41/41 [==============================] - 1s 23ms/step - loss: 4.9560 - reconstruction_loss: 3.5217 - kl_loss: 1.4343\n",
            "Epoch 48/100\n",
            "41/41 [==============================] - 1s 24ms/step - loss: 4.8589 - reconstruction_loss: 3.4648 - kl_loss: 1.3941\n",
            "Epoch 49/100\n",
            "41/41 [==============================] - 1s 24ms/step - loss: 4.9853 - reconstruction_loss: 3.5713 - kl_loss: 1.4140\n",
            "Epoch 50/100\n",
            "41/41 [==============================] - 1s 23ms/step - loss: 4.7844 - reconstruction_loss: 3.3692 - kl_loss: 1.4152\n",
            "Epoch 51/100\n",
            "41/41 [==============================] - 1s 23ms/step - loss: 4.8049 - reconstruction_loss: 3.4196 - kl_loss: 1.3852\n",
            "Epoch 52/100\n",
            "41/41 [==============================] - 1s 24ms/step - loss: 5.0073 - reconstruction_loss: 3.5668 - kl_loss: 1.4405\n",
            "Epoch 53/100\n",
            "41/41 [==============================] - 1s 24ms/step - loss: 5.0163 - reconstruction_loss: 3.5415 - kl_loss: 1.4748\n",
            "Epoch 54/100\n",
            "41/41 [==============================] - 1s 23ms/step - loss: 4.8334 - reconstruction_loss: 3.3987 - kl_loss: 1.4347\n",
            "Epoch 55/100\n",
            "41/41 [==============================] - 1s 24ms/step - loss: 4.7984 - reconstruction_loss: 3.3955 - kl_loss: 1.4028\n",
            "Epoch 56/100\n",
            "41/41 [==============================] - 1s 23ms/step - loss: 4.6151 - reconstruction_loss: 3.2361 - kl_loss: 1.3791\n",
            "Epoch 57/100\n",
            "41/41 [==============================] - 1s 25ms/step - loss: 4.7802 - reconstruction_loss: 3.3526 - kl_loss: 1.4276\n",
            "Epoch 58/100\n",
            "41/41 [==============================] - 1s 24ms/step - loss: 4.5837 - reconstruction_loss: 3.1931 - kl_loss: 1.3906\n",
            "Epoch 59/100\n",
            "41/41 [==============================] - 1s 24ms/step - loss: 4.7517 - reconstruction_loss: 3.3063 - kl_loss: 1.4454\n",
            "Epoch 60/100\n",
            "41/41 [==============================] - 1s 23ms/step - loss: 4.7389 - reconstruction_loss: 3.2561 - kl_loss: 1.4828\n",
            "Epoch 61/100\n",
            "41/41 [==============================] - 1s 24ms/step - loss: 5.0678 - reconstruction_loss: 3.6205 - kl_loss: 1.4473\n",
            "Epoch 62/100\n",
            "41/41 [==============================] - 1s 25ms/step - loss: 4.7240 - reconstruction_loss: 3.3236 - kl_loss: 1.4003\n",
            "Epoch 63/100\n",
            "41/41 [==============================] - 1s 24ms/step - loss: 4.5481 - reconstruction_loss: 3.1423 - kl_loss: 1.4058\n",
            "Epoch 64/100\n",
            "41/41 [==============================] - 1s 23ms/step - loss: 4.5432 - reconstruction_loss: 3.0935 - kl_loss: 1.4497\n",
            "Epoch 65/100\n",
            "41/41 [==============================] - 1s 22ms/step - loss: 4.5793 - reconstruction_loss: 3.1734 - kl_loss: 1.4059\n",
            "Epoch 66/100\n",
            "41/41 [==============================] - 1s 24ms/step - loss: 4.5788 - reconstruction_loss: 3.1651 - kl_loss: 1.4137\n",
            "Epoch 67/100\n",
            "41/41 [==============================] - 1s 23ms/step - loss: 4.4468 - reconstruction_loss: 2.9944 - kl_loss: 1.4524\n",
            "Epoch 68/100\n",
            "41/41 [==============================] - 1s 24ms/step - loss: 4.4620 - reconstruction_loss: 3.0426 - kl_loss: 1.4194\n",
            "Epoch 69/100\n",
            "41/41 [==============================] - 1s 23ms/step - loss: 4.6779 - reconstruction_loss: 3.1804 - kl_loss: 1.4975\n",
            "Epoch 70/100\n",
            "41/41 [==============================] - 1s 24ms/step - loss: 4.6549 - reconstruction_loss: 3.1949 - kl_loss: 1.4600\n",
            "Epoch 71/100\n",
            "41/41 [==============================] - 1s 25ms/step - loss: 4.4386 - reconstruction_loss: 2.9828 - kl_loss: 1.4558\n",
            "Epoch 72/100\n",
            "41/41 [==============================] - 1s 25ms/step - loss: 4.4106 - reconstruction_loss: 2.9255 - kl_loss: 1.4851\n",
            "Epoch 73/100\n",
            "41/41 [==============================] - 1s 24ms/step - loss: 4.6782 - reconstruction_loss: 3.2050 - kl_loss: 1.4731\n",
            "Epoch 74/100\n",
            "41/41 [==============================] - 1s 23ms/step - loss: 4.3599 - reconstruction_loss: 2.9002 - kl_loss: 1.4597\n",
            "Epoch 75/100\n",
            "41/41 [==============================] - 1s 24ms/step - loss: 4.4424 - reconstruction_loss: 2.9536 - kl_loss: 1.4888\n",
            "Epoch 76/100\n",
            "41/41 [==============================] - 1s 23ms/step - loss: 4.2798 - reconstruction_loss: 2.7883 - kl_loss: 1.4915\n",
            "Epoch 77/100\n",
            "41/41 [==============================] - 1s 23ms/step - loss: 4.3566 - reconstruction_loss: 2.8984 - kl_loss: 1.4582\n",
            "Epoch 78/100\n",
            "41/41 [==============================] - 1s 24ms/step - loss: 4.4471 - reconstruction_loss: 2.9785 - kl_loss: 1.4686\n",
            "Epoch 79/100\n",
            "41/41 [==============================] - 1s 23ms/step - loss: 4.2821 - reconstruction_loss: 2.8015 - kl_loss: 1.4806\n",
            "Epoch 80/100\n",
            "41/41 [==============================] - 1s 23ms/step - loss: 4.3483 - reconstruction_loss: 2.8452 - kl_loss: 1.5032\n",
            "Epoch 81/100\n",
            "41/41 [==============================] - 1s 23ms/step - loss: 4.4013 - reconstruction_loss: 2.9108 - kl_loss: 1.4905\n",
            "Epoch 82/100\n",
            "41/41 [==============================] - 1s 23ms/step - loss: 4.2257 - reconstruction_loss: 2.7369 - kl_loss: 1.4887\n",
            "Epoch 83/100\n",
            "41/41 [==============================] - 1s 23ms/step - loss: 4.2281 - reconstruction_loss: 2.7728 - kl_loss: 1.4553\n",
            "Epoch 84/100\n",
            "41/41 [==============================] - 1s 23ms/step - loss: 4.2264 - reconstruction_loss: 2.7144 - kl_loss: 1.5120\n",
            "Epoch 85/100\n",
            "41/41 [==============================] - 1s 23ms/step - loss: 4.1927 - reconstruction_loss: 2.7077 - kl_loss: 1.4850\n",
            "Epoch 86/100\n",
            "41/41 [==============================] - 1s 23ms/step - loss: 4.3856 - reconstruction_loss: 2.8957 - kl_loss: 1.4899\n",
            "Epoch 87/100\n",
            "41/41 [==============================] - 1s 23ms/step - loss: 4.1296 - reconstruction_loss: 2.6603 - kl_loss: 1.4694\n",
            "Epoch 88/100\n",
            "41/41 [==============================] - 1s 23ms/step - loss: 4.1336 - reconstruction_loss: 2.6371 - kl_loss: 1.4964\n",
            "Epoch 89/100\n",
            "41/41 [==============================] - 1s 23ms/step - loss: 4.0992 - reconstruction_loss: 2.6299 - kl_loss: 1.4694\n",
            "Epoch 90/100\n",
            "41/41 [==============================] - 1s 24ms/step - loss: 4.2233 - reconstruction_loss: 2.6884 - kl_loss: 1.5349\n",
            "Epoch 91/100\n",
            "41/41 [==============================] - 1s 23ms/step - loss: 4.4405 - reconstruction_loss: 2.9739 - kl_loss: 1.4666\n",
            "Epoch 92/100\n",
            "41/41 [==============================] - 1s 23ms/step - loss: 4.0153 - reconstruction_loss: 2.4965 - kl_loss: 1.5188\n",
            "Epoch 93/100\n",
            "41/41 [==============================] - 1s 23ms/step - loss: 4.1175 - reconstruction_loss: 2.6668 - kl_loss: 1.4507\n",
            "Epoch 94/100\n",
            "41/41 [==============================] - 1s 23ms/step - loss: 4.1626 - reconstruction_loss: 2.6952 - kl_loss: 1.4673\n",
            "Epoch 95/100\n",
            "41/41 [==============================] - 1s 23ms/step - loss: 3.9547 - reconstruction_loss: 2.4985 - kl_loss: 1.4562\n",
            "Epoch 96/100\n",
            "41/41 [==============================] - 1s 23ms/step - loss: 4.1028 - reconstruction_loss: 2.6082 - kl_loss: 1.4947\n",
            "Epoch 97/100\n",
            "41/41 [==============================] - 1s 23ms/step - loss: 4.1010 - reconstruction_loss: 2.5710 - kl_loss: 1.5300\n",
            "Epoch 98/100\n",
            "41/41 [==============================] - 1s 23ms/step - loss: 4.1518 - reconstruction_loss: 2.6258 - kl_loss: 1.5260\n",
            "Epoch 99/100\n",
            "41/41 [==============================] - 1s 23ms/step - loss: 4.0273 - reconstruction_loss: 2.5599 - kl_loss: 1.4674\n",
            "Epoch 100/100\n",
            "41/41 [==============================] - 1s 24ms/step - loss: 3.9634 - reconstruction_loss: 2.4567 - kl_loss: 1.5066\n"
          ]
        },
        {
          "output_type": "execute_result",
          "data": {
            "text/plain": [
              "<keras.callbacks.History at 0x7f35769d34c0>"
            ]
          },
          "metadata": {},
          "execution_count": 133
        }
      ]
    },
    {
      "cell_type": "code",
      "source": [
        "# Convert labels to tensor\n",
        "le = LabelEncoder()\n",
        "labels = le.fit_transform(y_train)\n",
        "input_label_train = tf.convert_to_tensor(labels) \n",
        "mapping = dict(zip(range(len(le.classes_)),le.classes_))\n",
        "print(mapping)\n",
        "labels = mapping\n",
        "\n",
        "\n",
        "plot_label_clusters(encoder, decoder, x_train, input_label_train)"
      ],
      "metadata": {
        "colab": {
          "base_uri": "https://localhost:8080/",
          "height": 646
        },
        "id": "PY77eSnHhLxM",
        "outputId": "84b30a99-681c-4712-8a85-1e12c5597bb5"
      },
      "execution_count": 134,
      "outputs": [
        {
          "output_type": "stream",
          "name": "stdout",
          "text": [
            "{0: 'Bacillus amyloliquefaciens', 1: 'Bacillus anthracis', 2: 'Bacillus cereus', 3: 'Bacillus cytotoxicus', 4: 'Bacillus licheniformis', 5: 'Bacillus subtilis', 6: 'Bacillus thuringiensis', 7: 'Bacillus velezensis'}\n",
            "81/81 [==============================] - 0s 3ms/step\n"
          ]
        },
        {
          "output_type": "display_data",
          "data": {
            "text/plain": [
              "<Figure size 864x720 with 2 Axes>"
            ],
            "image/png": "[encoded data removed]"
          },
          "metadata": {
            "needs_background": "light"
          }
        }
      ]
    },
    {
      "cell_type": "code",
      "source": [
        "flatted_sequence = list()\n",
        "sequence_labels = list()\n",
        "\n",
        "with open('drive/MyDrive/Colab Notebooks/autoencoder_data/bacillus.aln') as handle:\n",
        "  for record in SeqIO.parse(handle, 'fasta'):\n",
        "    #seq = hot_dna(str(record.seq)[10:160]).integer\n",
        "    #encoded = encode_dna(flatten(seq))\n",
        "    label = str(record.description).rsplit(';', 1)[-1]\n",
        "      \n",
        "    #flatted_sequence.append(encoded)\n",
        "    #flatted_sequence.append([tf.convert_to_tensor(flatten(hot_dna(str(record.seq)[10:160]).onehot))])\n",
        "    seq_hot = flatten(hot_dna(str(record.seq)[10:1210]).onehot)\n",
        "    \n",
        "    if len(seq_hot) == 6000:\n",
        "      flatted_sequence.append(seq_hot)\n",
        "      sequence_labels.append(label)\n",
        "  \n",
        "x_train, x_test, y_train, y_test = train_test_split(flatted_sequence, sequence_labels,test_size = 0.01)\n",
        "\n",
        "print(f\"The training set contains {len(x_train)} sequences\")\n",
        "print(\"The sequences are from the following species: \")\n",
        "print(Counter(y_train))\n",
        "print(\"---------------------------------\")\n",
        "print(f\"The training set contains {len(x_test)} sequences\")\n",
        "print(\"The sequences are from the following species: \")\n",
        "print(Counter(y_test))\n",
        "\n",
        "\n",
        "# Define Encoder Model\n",
        "latent_dim = 2\n",
        "\n",
        "encoder_inputs = Input(shape =(6000))\n",
        "x = Flatten()(encoder_inputs)\n",
        "x = Dense(150, activation = \"relu\")(x)\n",
        "x = Dense(16, activation =\"relu\")(x)\n",
        "z_mean = Dense(latent_dim, name =\"z_mean\")(x)\n",
        "z_log_var = Dense(latent_dim, name =\"z_log_var\")(x)\n",
        "z = Sampling()([z_mean, z_log_var])\n",
        "encoder = Model(encoder_inputs, [z_mean, z_log_var, z], name =\"encoder\")\n",
        "encoder.summary()\n",
        "\n",
        "# Define Decoder Architecture\n",
        "latent_inputs = tf.keras.Input(shape =(latent_dim, ))\n",
        "x = Dense(16, activation =\"relu\")(latent_inputs)\n",
        "x = Dense(150, activation = \"relu\")(x)\n",
        "x = Dense(6000, activation = \"sigmoid\")(x)\n",
        "decoder_outputs = Flatten()(x)\n",
        "decoder = Model(latent_inputs, decoder_outputs, name =\"decoder\")\n",
        "decoder.summary()\n",
        "\n",
        "class VAE(tf.keras.Model):\n",
        "  def __init__(self, encoder, decoder, **kwargs):\n",
        "    super(VAE, self).__init__(**kwargs)\n",
        "    self.decoder = decoder\n",
        "    self.encoder = encoder\n",
        "\n",
        "  def train_step(self, data):\n",
        "    if isinstance(data, tuple):\n",
        "      data = data[0]\n",
        "      with tf.GradientTape() as tape:\n",
        "        z_mean, z_log_var, z = encoder(data)\n",
        "        reconstruction = decoder(z)\n",
        "        reconstruction_loss = tf.reduce_mean(\n",
        "        tf.keras.losses.binary_crossentropy(data, reconstruction)\n",
        "        )\n",
        "        reconstruction_loss *= 28 * 28\n",
        "        kl_loss = 1 + z_log_var - tf.square(z_mean) - tf.exp(z_log_var)\n",
        "        kl_loss = tf.reduce_mean(kl_loss)\n",
        "        kl_loss *= -0.5\n",
        "        total_loss = reconstruction_loss + kl_loss\n",
        "      grads = tape.gradient(total_loss, self.trainable_weights)\n",
        "      self.optimizer.apply_gradients(zip(grads, self.trainable_weights))\n",
        "      return {\n",
        "        \"loss\": total_loss,\n",
        "        \"reconstruction_loss\": reconstruction_loss,\n",
        "        \"kl_loss\": kl_loss,\n",
        "        }"
      ],
      "metadata": {
        "colab": {
          "base_uri": "https://localhost:8080/"
        },
        "id": "rB1dEEL_iPkv",
        "outputId": "95f071de-ad62-47d8-b9bd-10f088366746"
      },
      "execution_count": 135,
      "outputs": [
        {
          "output_type": "stream",
          "name": "stdout",
          "text": [
            "The training set contains 2577 sequences\n",
            "The sequences are from the following species: \n",
            "Counter({'Bacillus subtilis': 620, 'Bacillus velezensis': 515, 'Bacillus cereus': 427, 'Bacillus anthracis': 370, 'Bacillus thuringiensis': 264, 'Bacillus amyloliquefaciens': 140, 'Bacillus cytotoxicus': 128, 'Bacillus licheniformis': 113})\n",
            "---------------------------------\n",
            "The training set contains 27 sequences\n",
            "The sequences are from the following species: \n",
            "Counter({'Bacillus velezensis': 6, 'Bacillus subtilis': 5, 'Bacillus cereus': 5, 'Bacillus anthracis': 5, 'Bacillus amyloliquefaciens': 2, 'Bacillus thuringiensis': 2, 'Bacillus cytotoxicus': 1, 'Bacillus licheniformis': 1})\n",
            "Model: \"encoder\"\n",
            "__________________________________________________________________________________________________\n",
            " Layer (type)                   Output Shape         Param #     Connected to                     \n",
            "==================================================================================================\n",
            " input_20 (InputLayer)          [(None, 6000)]       0           []                               \n",
            "                                                                                                  \n",
            " flatten_35 (Flatten)           (None, 6000)         0           ['input_20[0][0]']               \n",
            "                                                                                                  \n",
            " dense_70 (Dense)               (None, 150)          900150      ['flatten_35[0][0]']             \n",
            "                                                                                                  \n",
            " dense_71 (Dense)               (None, 16)           2416        ['dense_70[0][0]']               \n",
            "                                                                                                  \n",
            " z_mean (Dense)                 (None, 2)            34          ['dense_71[0][0]']               \n",
            "                                                                                                  \n",
            " z_log_var (Dense)              (None, 2)            34          ['dense_71[0][0]']               \n",
            "                                                                                                  \n",
            " sampling_11 (Sampling)         (None, 2)            0           ['z_mean[0][0]',                 \n",
            "                                                                  'z_log_var[0][0]']              \n",
            "                                                                                                  \n",
            "==================================================================================================\n",
            "Total params: 902,634\n",
            "Trainable params: 902,634\n",
            "Non-trainable params: 0\n",
            "__________________________________________________________________________________________________\n",
            "Model: \"decoder\"\n",
            "_________________________________________________________________\n",
            " Layer (type)                Output Shape              Param #   \n",
            "=================================================================\n",
            " input_21 (InputLayer)       [(None, 2)]               0         \n",
            "                                                                 \n",
            " dense_72 (Dense)            (None, 16)                48        \n",
            "                                                                 \n",
            " dense_73 (Dense)            (None, 150)               2550      \n",
            "                                                                 \n",
            " dense_74 (Dense)            (None, 6000)              906000    \n",
            "                                                                 \n",
            " flatten_36 (Flatten)        (None, 6000)              0         \n",
            "                                                                 \n",
            "=================================================================\n",
            "Total params: 908,598\n",
            "Trainable params: 908,598\n",
            "Non-trainable params: 0\n",
            "_________________________________________________________________\n"
          ]
        }
      ]
    },
    {
      "cell_type": "code",
      "source": [
        "vae = VAE(encoder, decoder)\n",
        "vae.compile(optimizer ='rmsprop')\n",
        "vae.fit(x_train, x_train, epochs = 100, batch_size = 64)"
      ],
      "metadata": {
        "colab": {
          "base_uri": "https://localhost:8080/"
        },
        "id": "Z7e5tzEliewx",
        "outputId": "1ef8e3e1-1e87-4f38-a0dd-1f83acb45122"
      },
      "execution_count": 136,
      "outputs": [
        {
          "output_type": "stream",
          "name": "stdout",
          "text": [
            "Epoch 1/100\n",
            "41/41 [==============================] - 3s 40ms/step - loss: 99.6135 - reconstruction_loss: 73.8290 - kl_loss: 25.7845\n",
            "Epoch 2/100\n",
            "41/41 [==============================] - 2s 38ms/step - loss: 24.9274 - reconstruction_loss: 16.9714 - kl_loss: 7.9561\n",
            "Epoch 3/100\n",
            "41/41 [==============================] - 2s 38ms/step - loss: 17.9574 - reconstruction_loss: 13.5639 - kl_loss: 4.3936\n",
            "Epoch 4/100\n",
            "41/41 [==============================] - 2s 39ms/step - loss: 11.4846 - reconstruction_loss: 8.1147 - kl_loss: 3.3699\n",
            "Epoch 5/100\n",
            "41/41 [==============================] - 2s 38ms/step - loss: 10.6664 - reconstruction_loss: 7.6938 - kl_loss: 2.9726\n",
            "Epoch 6/100\n",
            "41/41 [==============================] - 2s 39ms/step - loss: 9.6642 - reconstruction_loss: 7.1387 - kl_loss: 2.5255\n",
            "Epoch 7/100\n",
            "41/41 [==============================] - 2s 38ms/step - loss: 9.7872 - reconstruction_loss: 7.3694 - kl_loss: 2.4177\n",
            "Epoch 8/100\n",
            "41/41 [==============================] - 2s 38ms/step - loss: 8.2952 - reconstruction_loss: 6.2870 - kl_loss: 2.0083\n",
            "Epoch 9/100\n",
            "41/41 [==============================] - 2s 38ms/step - loss: 8.0375 - reconstruction_loss: 6.1617 - kl_loss: 1.8758\n",
            "Epoch 10/100\n",
            "41/41 [==============================] - 2s 39ms/step - loss: 8.1727 - reconstruction_loss: 6.3839 - kl_loss: 1.7888\n",
            "Epoch 11/100\n",
            "41/41 [==============================] - 2s 38ms/step - loss: 8.8998 - reconstruction_loss: 7.1842 - kl_loss: 1.7156\n",
            "Epoch 12/100\n",
            "41/41 [==============================] - 2s 37ms/step - loss: 8.0128 - reconstruction_loss: 6.3710 - kl_loss: 1.6418\n",
            "Epoch 13/100\n",
            "41/41 [==============================] - 2s 38ms/step - loss: 7.8590 - reconstruction_loss: 6.2757 - kl_loss: 1.5833\n",
            "Epoch 14/100\n",
            "41/41 [==============================] - 2s 38ms/step - loss: 7.1563 - reconstruction_loss: 5.6241 - kl_loss: 1.5322\n",
            "Epoch 15/100\n",
            "41/41 [==============================] - 2s 38ms/step - loss: 7.6436 - reconstruction_loss: 6.0131 - kl_loss: 1.6305\n",
            "Epoch 16/100\n",
            "41/41 [==============================] - 2s 38ms/step - loss: 7.0985 - reconstruction_loss: 5.6281 - kl_loss: 1.4705\n",
            "Epoch 17/100\n",
            "41/41 [==============================] - 2s 37ms/step - loss: 7.2260 - reconstruction_loss: 5.6928 - kl_loss: 1.5332\n",
            "Epoch 18/100\n",
            "41/41 [==============================] - 2s 37ms/step - loss: 6.6306 - reconstruction_loss: 5.2621 - kl_loss: 1.3685\n",
            "Epoch 19/100\n",
            "41/41 [==============================] - 2s 38ms/step - loss: 6.8582 - reconstruction_loss: 5.3717 - kl_loss: 1.4865\n",
            "Epoch 20/100\n",
            "41/41 [==============================] - 2s 38ms/step - loss: 6.5109 - reconstruction_loss: 5.1037 - kl_loss: 1.4072\n",
            "Epoch 21/100\n",
            "41/41 [==============================] - 2s 38ms/step - loss: 6.5966 - reconstruction_loss: 5.2548 - kl_loss: 1.3418\n",
            "Epoch 22/100\n",
            "41/41 [==============================] - 2s 38ms/step - loss: 6.4949 - reconstruction_loss: 5.1488 - kl_loss: 1.3462\n",
            "Epoch 23/100\n",
            "41/41 [==============================] - 2s 38ms/step - loss: 6.3268 - reconstruction_loss: 5.0084 - kl_loss: 1.3184\n",
            "Epoch 24/100\n",
            "41/41 [==============================] - 2s 39ms/step - loss: 6.3611 - reconstruction_loss: 5.0708 - kl_loss: 1.2903\n",
            "Epoch 25/100\n",
            "41/41 [==============================] - 2s 39ms/step - loss: 6.3055 - reconstruction_loss: 5.0287 - kl_loss: 1.2767\n",
            "Epoch 26/100\n",
            "41/41 [==============================] - 2s 39ms/step - loss: 6.3584 - reconstruction_loss: 5.0218 - kl_loss: 1.3366\n",
            "Epoch 27/100\n",
            "41/41 [==============================] - 2s 37ms/step - loss: 6.3838 - reconstruction_loss: 5.1118 - kl_loss: 1.2720\n",
            "Epoch 28/100\n",
            "41/41 [==============================] - 2s 39ms/step - loss: 6.0216 - reconstruction_loss: 4.8027 - kl_loss: 1.2189\n",
            "Epoch 29/100\n",
            "41/41 [==============================] - 2s 37ms/step - loss: 5.9933 - reconstruction_loss: 4.7796 - kl_loss: 1.2137\n",
            "Epoch 30/100\n",
            "41/41 [==============================] - 2s 38ms/step - loss: 6.1659 - reconstruction_loss: 4.9684 - kl_loss: 1.1974\n",
            "Epoch 31/100\n",
            "41/41 [==============================] - 2s 38ms/step - loss: 5.9144 - reconstruction_loss: 4.6923 - kl_loss: 1.2221\n",
            "Epoch 32/100\n",
            "41/41 [==============================] - 2s 38ms/step - loss: 6.0918 - reconstruction_loss: 4.8440 - kl_loss: 1.2478\n",
            "Epoch 33/100\n",
            "41/41 [==============================] - 2s 38ms/step - loss: 5.8861 - reconstruction_loss: 4.6373 - kl_loss: 1.2488\n",
            "Epoch 34/100\n",
            "41/41 [==============================] - 2s 39ms/step - loss: 5.7356 - reconstruction_loss: 4.5841 - kl_loss: 1.1515\n",
            "Epoch 35/100\n",
            "41/41 [==============================] - 2s 38ms/step - loss: 6.1289 - reconstruction_loss: 4.9340 - kl_loss: 1.1950\n",
            "Epoch 36/100\n",
            "41/41 [==============================] - 2s 37ms/step - loss: 5.7085 - reconstruction_loss: 4.5266 - kl_loss: 1.1818\n",
            "Epoch 37/100\n",
            "41/41 [==============================] - 2s 39ms/step - loss: 5.8966 - reconstruction_loss: 4.7231 - kl_loss: 1.1735\n",
            "Epoch 38/100\n",
            "41/41 [==============================] - 2s 56ms/step - loss: 5.5016 - reconstruction_loss: 4.3571 - kl_loss: 1.1446\n",
            "Epoch 39/100\n",
            "41/41 [==============================] - 3s 73ms/step - loss: 5.4715 - reconstruction_loss: 4.3245 - kl_loss: 1.1470\n",
            "Epoch 40/100\n",
            "41/41 [==============================] - 2s 39ms/step - loss: 5.7060 - reconstruction_loss: 4.5355 - kl_loss: 1.1705\n",
            "Epoch 41/100\n",
            "41/41 [==============================] - 2s 47ms/step - loss: 5.3374 - reconstruction_loss: 4.1345 - kl_loss: 1.2029\n",
            "Epoch 42/100\n",
            "41/41 [==============================] - 3s 70ms/step - loss: 5.6163 - reconstruction_loss: 4.4483 - kl_loss: 1.1680\n",
            "Epoch 43/100\n",
            "41/41 [==============================] - 3s 84ms/step - loss: 6.0841 - reconstruction_loss: 4.8821 - kl_loss: 1.2020\n",
            "Epoch 44/100\n",
            "41/41 [==============================] - 2s 56ms/step - loss: 5.7761 - reconstruction_loss: 4.5351 - kl_loss: 1.2410\n",
            "Epoch 45/100\n",
            "41/41 [==============================] - 3s 62ms/step - loss: 5.1220 - reconstruction_loss: 4.0332 - kl_loss: 1.0889\n",
            "Epoch 46/100\n",
            "41/41 [==============================] - 2s 59ms/step - loss: 5.0415 - reconstruction_loss: 3.9023 - kl_loss: 1.1392\n",
            "Epoch 47/100\n",
            "41/41 [==============================] - 2s 45ms/step - loss: 5.0981 - reconstruction_loss: 3.9713 - kl_loss: 1.1267\n",
            "Epoch 48/100\n",
            "41/41 [==============================] - 2s 38ms/step - loss: 5.0746 - reconstruction_loss: 3.9722 - kl_loss: 1.1024\n",
            "Epoch 49/100\n",
            "41/41 [==============================] - 2s 37ms/step - loss: 5.2981 - reconstruction_loss: 4.0089 - kl_loss: 1.2892\n",
            "Epoch 50/100\n",
            "41/41 [==============================] - 2s 38ms/step - loss: 4.8815 - reconstruction_loss: 3.7363 - kl_loss: 1.1452\n",
            "Epoch 51/100\n",
            "41/41 [==============================] - 2s 37ms/step - loss: 5.3179 - reconstruction_loss: 4.2269 - kl_loss: 1.0910\n",
            "Epoch 52/100\n",
            "41/41 [==============================] - 2s 38ms/step - loss: 4.8362 - reconstruction_loss: 3.7442 - kl_loss: 1.0921\n",
            "Epoch 53/100\n",
            "41/41 [==============================] - 2s 39ms/step - loss: 4.7732 - reconstruction_loss: 3.5988 - kl_loss: 1.1744\n",
            "Epoch 54/100\n",
            "41/41 [==============================] - 2s 38ms/step - loss: 4.7243 - reconstruction_loss: 3.6399 - kl_loss: 1.0843\n",
            "Epoch 55/100\n",
            "41/41 [==============================] - 2s 39ms/step - loss: 4.6769 - reconstruction_loss: 3.5627 - kl_loss: 1.1142\n",
            "Epoch 56/100\n",
            "41/41 [==============================] - 2s 38ms/step - loss: 4.6542 - reconstruction_loss: 3.5695 - kl_loss: 1.0846\n",
            "Epoch 57/100\n",
            "41/41 [==============================] - 2s 38ms/step - loss: 4.7142 - reconstruction_loss: 3.5547 - kl_loss: 1.1594\n",
            "Epoch 58/100\n",
            "41/41 [==============================] - 2s 39ms/step - loss: 4.5368 - reconstruction_loss: 3.4276 - kl_loss: 1.1092\n",
            "Epoch 59/100\n",
            "41/41 [==============================] - 2s 38ms/step - loss: 4.5105 - reconstruction_loss: 3.3955 - kl_loss: 1.1151\n",
            "Epoch 60/100\n",
            "41/41 [==============================] - 2s 37ms/step - loss: 4.6319 - reconstruction_loss: 3.5100 - kl_loss: 1.1219\n",
            "Epoch 61/100\n",
            "41/41 [==============================] - 2s 38ms/step - loss: 4.6333 - reconstruction_loss: 3.4632 - kl_loss: 1.1701\n",
            "Epoch 62/100\n",
            "41/41 [==============================] - 2s 38ms/step - loss: 4.4543 - reconstruction_loss: 3.3487 - kl_loss: 1.1056\n",
            "Epoch 63/100\n",
            "41/41 [==============================] - 2s 39ms/step - loss: 4.5385 - reconstruction_loss: 3.3483 - kl_loss: 1.1903\n",
            "Epoch 64/100\n",
            "41/41 [==============================] - 2s 39ms/step - loss: 4.5572 - reconstruction_loss: 3.3754 - kl_loss: 1.1818\n",
            "Epoch 65/100\n",
            "41/41 [==============================] - 2s 38ms/step - loss: 4.4723 - reconstruction_loss: 3.3364 - kl_loss: 1.1359\n",
            "Epoch 66/100\n",
            "41/41 [==============================] - 2s 38ms/step - loss: 4.3793 - reconstruction_loss: 3.2553 - kl_loss: 1.1240\n",
            "Epoch 67/100\n",
            "41/41 [==============================] - 2s 39ms/step - loss: 4.3017 - reconstruction_loss: 3.1644 - kl_loss: 1.1373\n",
            "Epoch 68/100\n",
            "41/41 [==============================] - 2s 38ms/step - loss: 4.3374 - reconstruction_loss: 3.2173 - kl_loss: 1.1201\n",
            "Epoch 69/100\n",
            "41/41 [==============================] - 2s 38ms/step - loss: 4.3705 - reconstruction_loss: 3.1799 - kl_loss: 1.1906\n",
            "Epoch 70/100\n",
            "41/41 [==============================] - 2s 38ms/step - loss: 4.2775 - reconstruction_loss: 3.1114 - kl_loss: 1.1662\n",
            "Epoch 71/100\n",
            "41/41 [==============================] - 2s 38ms/step - loss: 4.6909 - reconstruction_loss: 3.4378 - kl_loss: 1.2532\n",
            "Epoch 72/100\n",
            "41/41 [==============================] - 2s 38ms/step - loss: 4.2652 - reconstruction_loss: 3.1411 - kl_loss: 1.1241\n",
            "Epoch 73/100\n",
            "41/41 [==============================] - 2s 38ms/step - loss: 4.3253 - reconstruction_loss: 3.1471 - kl_loss: 1.1783\n",
            "Epoch 74/100\n",
            "41/41 [==============================] - 2s 39ms/step - loss: 4.3414 - reconstruction_loss: 3.1441 - kl_loss: 1.1973\n",
            "Epoch 75/100\n",
            "41/41 [==============================] - 2s 38ms/step - loss: 4.2989 - reconstruction_loss: 3.1431 - kl_loss: 1.1559\n",
            "Epoch 76/100\n",
            "41/41 [==============================] - 2s 37ms/step - loss: 4.2674 - reconstruction_loss: 3.0755 - kl_loss: 1.1918\n",
            "Epoch 77/100\n",
            "41/41 [==============================] - 2s 37ms/step - loss: 4.3140 - reconstruction_loss: 3.1091 - kl_loss: 1.2049\n",
            "Epoch 78/100\n",
            "41/41 [==============================] - 2s 39ms/step - loss: 4.3949 - reconstruction_loss: 3.1785 - kl_loss: 1.2164\n",
            "Epoch 79/100\n",
            "41/41 [==============================] - 2s 39ms/step - loss: 5.0137 - reconstruction_loss: 3.8330 - kl_loss: 1.1807\n",
            "Epoch 80/100\n",
            "41/41 [==============================] - 2s 38ms/step - loss: 4.2948 - reconstruction_loss: 3.0634 - kl_loss: 1.2314\n",
            "Epoch 81/100\n",
            "41/41 [==============================] - 2s 38ms/step - loss: 4.2018 - reconstruction_loss: 3.0308 - kl_loss: 1.1709\n",
            "Epoch 82/100\n",
            "41/41 [==============================] - 2s 38ms/step - loss: 4.2461 - reconstruction_loss: 3.0819 - kl_loss: 1.1642\n",
            "Epoch 83/100\n",
            "41/41 [==============================] - 2s 39ms/step - loss: 4.1744 - reconstruction_loss: 2.9981 - kl_loss: 1.1763\n",
            "Epoch 84/100\n",
            "41/41 [==============================] - 2s 38ms/step - loss: 4.1692 - reconstruction_loss: 2.9724 - kl_loss: 1.1968\n",
            "Epoch 85/100\n",
            "41/41 [==============================] - 2s 39ms/step - loss: 4.1478 - reconstruction_loss: 2.8917 - kl_loss: 1.2561\n",
            "Epoch 86/100\n",
            "41/41 [==============================] - 2s 38ms/step - loss: 4.1207 - reconstruction_loss: 2.9166 - kl_loss: 1.2041\n",
            "Epoch 87/100\n",
            "41/41 [==============================] - 2s 38ms/step - loss: 4.0583 - reconstruction_loss: 2.8699 - kl_loss: 1.1884\n",
            "Epoch 88/100\n",
            "41/41 [==============================] - 2s 38ms/step - loss: 4.1312 - reconstruction_loss: 2.9474 - kl_loss: 1.1838\n",
            "Epoch 89/100\n",
            "41/41 [==============================] - 2s 38ms/step - loss: 4.1526 - reconstruction_loss: 2.9029 - kl_loss: 1.2497\n",
            "Epoch 90/100\n",
            "41/41 [==============================] - 2s 37ms/step - loss: 4.0435 - reconstruction_loss: 2.8458 - kl_loss: 1.1977\n",
            "Epoch 91/100\n",
            "41/41 [==============================] - 2s 39ms/step - loss: 4.0595 - reconstruction_loss: 2.8790 - kl_loss: 1.1805\n",
            "Epoch 92/100\n",
            "41/41 [==============================] - 2s 38ms/step - loss: 4.1395 - reconstruction_loss: 2.9261 - kl_loss: 1.2134\n",
            "Epoch 93/100\n",
            "41/41 [==============================] - 3s 68ms/step - loss: 4.5624 - reconstruction_loss: 3.3389 - kl_loss: 1.2235\n",
            "Epoch 94/100\n",
            "41/41 [==============================] - 2s 38ms/step - loss: 4.1043 - reconstruction_loss: 2.8299 - kl_loss: 1.2744\n",
            "Epoch 95/100\n",
            "41/41 [==============================] - 2s 39ms/step - loss: 4.0458 - reconstruction_loss: 2.8398 - kl_loss: 1.2060\n",
            "Epoch 96/100\n",
            "41/41 [==============================] - 2s 38ms/step - loss: 4.0960 - reconstruction_loss: 2.8570 - kl_loss: 1.2390\n",
            "Epoch 97/100\n",
            "41/41 [==============================] - 2s 40ms/step - loss: 3.9689 - reconstruction_loss: 2.7614 - kl_loss: 1.2075\n",
            "Epoch 98/100\n",
            "41/41 [==============================] - 2s 38ms/step - loss: 4.0506 - reconstruction_loss: 2.7518 - kl_loss: 1.2989\n",
            "Epoch 99/100\n",
            "41/41 [==============================] - 2s 38ms/step - loss: 3.9438 - reconstruction_loss: 2.6701 - kl_loss: 1.2737\n",
            "Epoch 100/100\n",
            "41/41 [==============================] - 2s 40ms/step - loss: 3.8986 - reconstruction_loss: 2.6484 - kl_loss: 1.2502\n"
          ]
        },
        {
          "output_type": "execute_result",
          "data": {
            "text/plain": [
              "<keras.callbacks.History at 0x7f357b6a5490>"
            ]
          },
          "metadata": {},
          "execution_count": 136
        }
      ]
    },
    {
      "cell_type": "code",
      "source": [
        "# Convert labels to tensor\n",
        "le = LabelEncoder()\n",
        "labels = le.fit_transform(y_train)\n",
        "input_label_train = tf.convert_to_tensor(labels) \n",
        "mapping = dict(zip(range(len(le.classes_)),le.classes_))\n",
        "print(mapping)\n",
        "labels = mapping\n",
        "\n",
        "\n",
        "plot_label_clusters(encoder, decoder, x_train, input_label_train)"
      ],
      "metadata": {
        "colab": {
          "base_uri": "https://localhost:8080/",
          "height": 646
        },
        "id": "L6pOiA9vjRs4",
        "outputId": "736513fb-f875-4436-b6fc-5a9b746a988c"
      },
      "execution_count": 137,
      "outputs": [
        {
          "output_type": "stream",
          "name": "stdout",
          "text": [
            "{0: 'Bacillus amyloliquefaciens', 1: 'Bacillus anthracis', 2: 'Bacillus cereus', 3: 'Bacillus cytotoxicus', 4: 'Bacillus licheniformis', 5: 'Bacillus subtilis', 6: 'Bacillus thuringiensis', 7: 'Bacillus velezensis'}\n",
            "81/81 [==============================] - 0s 4ms/step\n"
          ]
        },
        {
          "output_type": "display_data",
          "data": {
            "text/plain": [
              "<Figure size 864x720 with 2 Axes>"
            ],
            "image/png": "[encoded data removed]"
          },
          "metadata": {
            "needs_background": "light"
          }
        }
      ]
    }
  ]
}